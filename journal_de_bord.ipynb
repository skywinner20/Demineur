{
 "cells": [
  {
   "cell_type": "markdown",
   "metadata": {},
   "source": [
    "# Journal de bord - Ardi et Cédric\n",
    "\n",
    "Voici le fichier qui va servir de journal de bord et de fichier de prototypage. Le mode d'emploi du programme se trouve dans le fichier \"README.md\".\n",
    "\n",
    "## Création de la grille\n",
    "\n",
    "On va utiliser des liste imbriquées avec les valeurs suivantes pour représenter les différents cas"
   ]
  },
  {
   "cell_type": "markdown",
   "metadata": {},
   "source": [
    "Ci-dessous la liste des import nécessaires"
   ]
  },
  {
   "cell_type": "code",
   "execution_count": 5,
   "metadata": {},
   "outputs": [],
   "source": [
    "import random\n",
    "import math"
   ]
  },
  {
   "cell_type": "code",
   "execution_count": 6,
   "metadata": {},
   "outputs": [],
   "source": [
    "def magrille(l,c):\n",
    "    grille = []\n",
    "    for i in range(l):\n",
    "        grille.append([0]*c)\n",
    "    return grille"
   ]
  },
  {
   "cell_type": "code",
   "execution_count": 7,
   "metadata": {},
   "outputs": [],
   "source": [
    "mg = magrille(15,15)"
   ]
  },
  {
   "cell_type": "code",
   "execution_count": null,
   "metadata": {},
   "outputs": [],
   "source": [
    "mg[0]"
   ]
  },
  {
   "cell_type": "markdown",
   "metadata": {},
   "source": [
    "## Fonction d'affichage de la grille"
   ]
  },
  {
   "cell_type": "code",
   "execution_count": null,
   "metadata": {},
   "outputs": [],
   "source": [
    "def printGrille(magrille):\n",
    "    nbligne = len(magrille)\n",
    "    nbcol = len(magrille[0])\n",
    "    affichage_col = \"- \"\n",
    "    for i in range(nbcol):\n",
    "        if i < 10:\n",
    "            affichage_col += \" {0} \".format(i)\n",
    "        else:\n",
    "            affichage_col += \"{0} \".format(i)\n",
    "    print(affichage_col)\n",
    "    for i in range(nbligne):\n",
    "        lignetexte = \"|\"\n",
    "        for j in range(nbcol):\n",
    "                lignetexte += \"{0} |\".format(magrille[i][j])\n",
    "        if i < 10:\n",
    "            print(\"{0}  {1}\".format(i, lignetexte))\n",
    "        else:\n",
    "            print(\"{0} {1}\".format(i, lignetexte))"
   ]
  },
  {
   "cell_type": "code",
   "execution_count": null,
   "metadata": {},
   "outputs": [],
   "source": [
    "printGrille(mg)"
   ]
  },
  {
   "cell_type": "markdown",
   "metadata": {},
   "source": [
    "## Placement des bombes\n",
    "\n",
    "On veut choisir n élément parmis les positions"
   ]
  },
  {
   "cell_type": "code",
   "execution_count": null,
   "metadata": {},
   "outputs": [],
   "source": [
    "def genPos(l,c):\n",
    "    pos = []\n",
    "    for i in range(l):\n",
    "        for j in range(c):\n",
    "            pos.append((i,j))\n",
    "    return pos"
   ]
  },
  {
   "cell_type": "code",
   "execution_count": null,
   "metadata": {},
   "outputs": [],
   "source": [
    "import random\n",
    "pos = genPos(10,10)\n",
    "random.sample(pos, 20)"
   ]
  },
  {
   "cell_type": "markdown",
   "metadata": {},
   "source": [
    "Pour choisir les positions des bombes aléatoirement on commence par générer toutes les positions possibles puis on choisit le nombre souhaité parmis ces positions avec `random.sample` qui permet de ne pas choisir 2 fois la même position."
   ]
  },
  {
   "cell_type": "code",
   "execution_count": null,
   "metadata": {},
   "outputs": [],
   "source": [
    "def putBomb(grille, nbBomb):\n",
    "    \"\"\"\n",
    "    Prends la liste représentant la grille et le nb de bombes, et les places aléatoirement dans la grille\n",
    "    \"\"\"\n",
    "    nbligne = len(grille)\n",
    "    nbcol = len(grille[0])\n",
    "    pos = genPos(nbligne, nbcol)\n",
    "    posBomb = random.sample(pos, nbBomb)\n",
    "    for bomb in posBomb:\n",
    "        grille[bomb[0]][bomb[1]] = \"B\"\n",
    "    return grille"
   ]
  },
  {
   "cell_type": "code",
   "execution_count": null,
   "metadata": {},
   "outputs": [],
   "source": [
    "mg = magrille(10,10)\n",
    "mgB = putBomb(mg,21)\n",
    "printGrille(mgB)"
   ]
  },
  {
   "cell_type": "markdown",
   "metadata": {},
   "source": [
    "Envisager d'utiliser les classes?"
   ]
  },
  {
   "cell_type": "code",
   "execution_count": null,
   "metadata": {},
   "outputs": [],
   "source": [
    "def BombScore(grille):\n",
    "    n = 0 #Compteur de score\n",
    "    for i in grille:\n",
    "        print(i)\n",
    "    return i"
   ]
  },
  {
   "cell_type": "code",
   "execution_count": null,
   "metadata": {},
   "outputs": [],
   "source": [
    "#Fonction pour mettre des chiffres sur ce plateau\n",
    "\n",
    "#Que fait-il? Teste chaque case non-bombée ainsi que ses 8 voisins pour lui donner un score. Le \"try\" est nécessaire pour éviter des erreurs si il veut essayer\n",
    "#des valeurs qui ne sont pas dans la liste\n",
    "\n",
    "#TODO: \n",
    "#FAIT - Réparer cette fonction -> Il compte des voisins qu'il n'a pas (empêcher les index négatifs)\n",
    "#FAIT - Faire l'UX (mettre dans une grille, cacher cette grille, et t'as capté)\n",
    "\n",
    "def GrilleScore(grille_bombee): #Entendre par là: la grille avec les bombes placées et rien de plus\n",
    "    \"\"\"\n",
    "    Prends la grille bombée et mets les numéros en testant chaque case avec ses 8 voisins\n",
    "    \"\"\"\n",
    "\n",
    "    for i in range(len(grille_bombee)):\n",
    "        for k in range(len(grille_bombee[i])): #Préciser de quelle liste on parle | Envisager le try ? -> Seule manière possible mais c'est PAS BEAU.\n",
    "            n = 0\n",
    "            if grille_bombee[i][k] == \"B\":\n",
    "                n = \"B\"     #Nbr de bombes voisins\n",
    "            else:\n",
    "                try:\n",
    "                    if grille_bombee[i - 1][k - 1] == \"B\" and i != 0 and k != 0: #En haut à gauche\n",
    "                        n += 1\n",
    "                except IndexError:\n",
    "                    pass\n",
    "                try:\n",
    "                    if grille_bombee[i][k - 1] == \"B\" and k != 0: #En haut au milieu\n",
    "                        n += 1\n",
    "                except IndexError:\n",
    "                    pass\n",
    "                try:\n",
    "                    if grille_bombee[i + 1][k - 1] == \"B\" and k != 0 and i != len(grille_bombee[i]): #En haut à droite\n",
    "                        n += 1\n",
    "                except IndexError:\n",
    "                    pass\n",
    "                try:\n",
    "                    if grille_bombee[i - 1][k] == \"B\" and i != 0: #Au milieu à gauche\n",
    "                        n += 1\n",
    "                except IndexError:\n",
    "                    pass\n",
    "                try:\n",
    "                    if grille_bombee[i + 1][k] == \"B\" and i != len(grille_bombee[i]) : #Au milieu à droite\n",
    "                        n += 1\n",
    "                except IndexError:\n",
    "                    pass\n",
    "                try:\n",
    "                    if grille_bombee[i - 1][k + 1] == \"B\" and i != 0 and k != len(grille_bombee[k]): #En bas à gauche\n",
    "                        n += 1\n",
    "                except IndexError:\n",
    "                    pass\n",
    "                try:\n",
    "                    if grille_bombee[i][k + 1] == \"B\" and k != len(grille_bombee[k]): #En bas au milieu\n",
    "                        n += 1\n",
    "                except IndexError:\n",
    "                    pass\n",
    "                try:\n",
    "                    if grille_bombee[i + 1][k + 1] == \"B\" and k != len(grille_bombee[k]) and i != len(grille_bombee[i]): #En bas à droite\n",
    "                        n += 1\n",
    "                except IndexError:\n",
    "                    pass\n",
    "            \n",
    "            grille_bombee[i][k] = n\n",
    "    return(grille_bombee)\n",
    "\n",
    "\n",
    "\n",
    "\n",
    "#           n = 0\n",
    "#           grille_full = grille_bombée\n",
    "#           if i == \"B\":\n",
    "            \n",
    "GrilleScore(mg)"
   ]
  },
  {
   "cell_type": "code",
   "execution_count": null,
   "metadata": {},
   "outputs": [],
   "source": [
    "printGrille(GrilleScore(mg)) #Ca marche, et ça c'est beau"
   ]
  },
  {
   "cell_type": "code",
   "execution_count": null,
   "metadata": {},
   "outputs": [],
   "source": [
    "# Comment faire l'affichage de la grille côté user?\n",
    "# - Créer une liste \"liste_cachee\" qui se dévoilera au fur et à mesure (Caractère ascii □, remplacé par sa valeur\n",
    "# avec la position appelée par le joueur)\n",
    "# Gameplay: La grille s'affiche, et le joueur appelle chaque case, en espérant que ça soit pas une bombe"
   ]
  },
  {
   "cell_type": "code",
   "execution_count": null,
   "metadata": {},
   "outputs": [],
   "source": [
    "def grille_cachee(liste_b): #Le but de cette matrice est d'être remplacé par la liste GrilleScore avec les appels du joueur\n",
    "    \"\"\"\n",
    "    Prends la grille bombée et numerotée, et retourne une grille cachée\n",
    "    \"\"\"\n",
    "    grille = []\n",
    "    for i in range(len(liste_b)): \n",
    "        grille.append(\"□\"*len(liste_b[0]))\n",
    "    return grille\n",
    "\n",
    "printGrille(grille_cachee(mg))"
   ]
  },
  {
   "cell_type": "code",
   "execution_count": null,
   "metadata": {},
   "outputs": [],
   "source": [
    "def grille_cachee(liste_b): #Le but de cette matrice est d'être remplacé par la liste GrilleScore avec les appels du joueur\n",
    "    \"\"\"\n",
    "    Prends la grille bombée et numerotée, et retourne une grille cachée\n",
    "    \"\"\"\n",
    "    grille = []\n",
    "    for i in range(len(liste_b)): \n",
    "        grille.append(\"□\"*len(liste_b[0]))\n",
    "    return grille\n",
    "\n",
    "printGrille(grille_cachee(mg))"
   ]
  },
  {
   "cell_type": "code",
   "execution_count": null,
   "metadata": {},
   "outputs": [],
   "source": [
    "def user_inter(liste_grille): # Interaction user\n",
    "    \"\"\"\n",
    "    Prends la liste de la grille, demande les variables lignes colonnes action au user pour savoir ce qu'il veut faire et retourne l_user, c_user et action tq. l_user = ligne choisie, c_user = colonne choisie et action = action choisie\n",
    "    action possible: marcher, drapeau, ?\n",
    "    \"\"\"\n",
    "    flag_nbr = False #Flag pour les nombres\n",
    "    flag_action = False #Flag pour l'action\n",
    "    flag_nbr_mem = False #Flag de mémoire pour les nombres\n",
    "\n",
    "    while flag_nbr == False or flag_action == False: #Testeurs pour savoir si les variables sont légales ou pas\n",
    "        try:    \n",
    "            l_user, c_user, action = input(\"Que voulez-vous faire? (ligne colonne action)\").split(\" \")\n",
    "        except ValueError:\n",
    "            print(\"Erreur: Nombre de paramètres faux\") \n",
    "\n",
    "        try: #Bien des valeurs\n",
    "            l_user = int(l_user)\n",
    "            c_user = int(c_user)\n",
    "            flag_nbr_mem = True\n",
    "        except ValueError:\n",
    "            print(\"Erreur: Nombre(s) incorrecte(s)\")\n",
    "\n",
    "        #if l_user.isdigit == True and c_user.isdigit == True: #Verif de nombres l et c légal\n",
    "        if flag_nbr_mem == True:\n",
    "            if 0 <= l_user <= len(liste_grille) and 0 <= c_user <= len(liste_grille[0]): #Si les valeurs existent\n",
    "                l_user = int(l_user)\n",
    "                c_user = int(c_user)\n",
    "                flag_nbr = True\n",
    "            else:\n",
    "                print(\"Erreur: Nombres impossibles, ils ne sont pas dans la grille\")\n",
    "        \n",
    "        try: #Verif action légal\n",
    "            if action == \"marcher\":\n",
    "                flag_action = True\n",
    "            elif action == \"drapeau\":\n",
    "                flag_action = True\n",
    "            elif action == \"?\":\n",
    "                flag_action = True\n",
    "            else:\n",
    "                print(\"Erreur: Action incorrecte\")\n",
    "        except ValueError:\n",
    "            print(\"Erreur: Action incorrecte\")\n",
    "            \n",
    "    \n",
    "    return l_user, c_user, action\n",
    "\n",
    "user_inter(GrilleScore(mg))"
   ]
  },
  {
   "cell_type": "code",
   "execution_count": null,
   "metadata": {},
   "outputs": [],
   "source": [
    "i = 0\n",
    "flag = False\n",
    "\n",
    "while flag == False:\n",
    "    print(i)\n",
    "    i = i+1\n",
    "    if i > 10:\n",
    "        flag = True"
   ]
  },
  {
   "cell_type": "code",
   "execution_count": null,
   "metadata": {},
   "outputs": [],
   "source": [
    "k = -1\n",
    "if k + 1 == 0:\n",
    "    print(\"test\")"
   ]
  },
  {
   "cell_type": "code",
   "execution_count": null,
   "metadata": {},
   "outputs": [],
   "source": [
    "k = [1,2,3]\n",
    "if k == True:\n",
    "    print(\"test\")"
   ]
  },
  {
   "cell_type": "code",
   "execution_count": null,
   "metadata": {},
   "outputs": [],
   "source": [
    "def GameOver(): #TODO : le gameover -> fait directement sur le .py\n",
    "    \"\"\"\n",
    "    T'as perdu. Gros nullos.\n",
    "    \"\"\"\n",
    "    print(\"olala la defaite du joueur francais\")"
   ]
  },
  {
   "cell_type": "code",
   "execution_count": null,
   "metadata": {},
   "outputs": [],
   "source": [
    "def gameplay(l_user, c_user, action, grille, grillescore): #Là ou va se jouer le GAMING (interaction userinput et grille) | Fonction prototype\n",
    "    \"\"\"\n",
    "    Prends les valeurs l_user, c_user, action, grille que modifie le joueur, la grille scorée, et retourne la grille modifiée en circonstance et n\n",
    "\n",
    "    n = False si problème avec case (déjà ouverte ou protégée)\n",
    "    n = True si drapeau sur bombe\n",
    "    \"\"\"\n",
    "    n = False\n",
    "\n",
    "    if action == \"marcher\":\n",
    "\n",
    "        if grille[l_user][c_user] != \"□\" or grille[l_user][c_user] == \"F\" or grille[l_user][c_user] == \"?\": #Case innouvrable\n",
    "            n = False\n",
    "\n",
    "        elif grillescore[l_user][c_user] == \"B\": # Bombe\n",
    "            GameOver()\n",
    "\n",
    "        elif grillescore[l_user][c_user] == 0: # Zéro \n",
    "\n",
    "            grille[l_user][c_user] = grillescore[l_user][c_user] #Remplacer la case\n",
    "            #Maintenant, il faut montrer les 8 voisins\n",
    "\n",
    "            if l_user - 1 >= 0 and c_user - 1 >= 0: #En haut à gauche\n",
    "                grille[l_user - 1][c_user - 1] = grillescore[l_user - 1][c_user - 1]\n",
    "\n",
    "            if l_user - 1 >= 0: #En haut au milieu\n",
    "                grille[l_user - 1][c_user] = grillescore[l_user - 1][c_user]\n",
    "\n",
    "            if l_user - 1 >= 0 and c_user + 1 <= len(grille[0]): #En haut à droite\n",
    "                grille[l_user - 1][c_user + 1] = grillescore[l_user - 1][c_user]\n",
    "\n",
    "            if c_user - 1 >= 0: #Au milieu à gauche\n",
    "                grille[l_user][c_user - 1] = grillescore[l_user][c_user - 1]\n",
    "            \n",
    "            if c_user + 1 <= len(grille[0]): #Au milieu à droite\n",
    "                grille[l_user][c_user + 1] = grillescore[l_user][c_user + 1]\n",
    "            \n",
    "            if l_user + 1 <= len(grille) and c_user - 1 <= len(grille[0]): #En bas à gauche\n",
    "                grille[l_user + 1][c_user - 1] = grillescore[l_user + 1][c_user - 1]\n",
    "            \n",
    "            if l_user + 1 <= len(grille): #En bas au milieu\n",
    "                grille[l_user + 1][c_user] = grillescore[l_user + 1][c_user]\n",
    "            \n",
    "            if l_user + 1 <= len(grille) and c_user + 1 <= len(grille[0]): #En bas à droite\n",
    "                grille[l_user + 1][c_user + 1] = grillescore[l_user + 1][c_user + 1]\n",
    "        \n",
    "        else: #le reste \n",
    "            grille[l_user][c_user] = grillescore[l_user][c_user]\n",
    "    \n",
    "    elif action == \"drapeau\":\n",
    "        if grillescore[l_user][c_user] == \"B\":\n",
    "            n = True\n",
    "        grille[l_user][c_user] = \"F\"\n",
    "    \n",
    "    elif action == \"?\":\n",
    "        grille[l_user][c_user] = \"?\"\n",
    "    \n",
    "    return grille, n"
   ]
  },
  {
   "cell_type": "code",
   "execution_count": null,
   "metadata": {},
   "outputs": [],
   "source": [
    "print(\"     ,--.!,\\n  __/   -*-\\n,d08b.  '|`\\n0088MM\\n`9MMP'   Démineur - Ardi et Cédric\") #S'assurer que l'ASCII marche bien"
   ]
  },
  {
   "cell_type": "code",
   "execution_count": null,
   "metadata": {},
   "outputs": [],
   "source": [
    "a = \"Banane\" #Ici, des traces de moi qui essaie de répéter l'erreur du str. Il s'agissait de grille_cachee() qui renvoyait une liste de str, et non une liste de listes de str.\n",
    "b = \"Saucisse\"\n",
    "a = b\n",
    "a\n",
    "\n",
    "def Saucisse():\n",
    "    a = \"Saucisse\"\n",
    "    b = \"Saucisse2\"\n",
    "    c = \"Saucisse3\"\n",
    "    return a, b, c\n",
    "\n",
    "a, b, c = Saucisse()\n",
    "print(a)\n",
    "print(b)\n",
    "print(c)\n",
    "\n",
    "liste_sauc = [a, b, c]\n",
    "print(liste_sauc)\n",
    "\n",
    "liste_sauc2 = [a + \"gaming\", b + \"gaming2\", c + \"gaming3\"]\n",
    "liste_sauc3 = [1, b + \"gaming2\", c + \"gaming3\"]\n",
    "\n",
    "liste_sauc[0] = liste_sauc3[0]\n",
    "\n",
    "print(liste_sauc[0])\n",
    "type(liste_sauc[0])"
   ]
  },
  {
   "cell_type": "code",
   "execution_count": null,
   "metadata": {},
   "outputs": [],
   "source": [
    "def gameplay(l_user, c_user, action, grilleJoueur, grillescore): #Là ou va se jouer le GAMING (interaction userinput et grille) | Deja plus proche de ce qu'on trouve dans le .py\n",
    "    \"\"\"\n",
    "    Prends les valeurs l_user, c_user, action, grille que modifie le joueur, la grille scorée, et retourne la grille modifiée en circonstance, n si une bombe est touchée et\n",
    "    FBomb si un drapeau a été placé sur une bombe\n",
    "    \"\"\"\n",
    "    n = False\n",
    "    FBomb = False\n",
    "    l_user = int(l_user)\n",
    "    c_user = int(c_user)\n",
    "    grille = grilleJoueur.copy()\n",
    "\n",
    "    if action == \"marcher\":\n",
    "\n",
    "        if grille[l_user][c_user] != \"□\" or grille[l_user][c_user] == \"F\" or grille[l_user][c_user] == \"?\": #Case innouvrable\n",
    "            n = True\n",
    "\n",
    "        elif grillescore[l_user][c_user] == \"B\": # Bombe\n",
    "            GameOver()\n",
    "\n",
    "        elif grillescore[l_user][c_user] == 0: # Zéro | Même stratégie que pour GrilleScore(), cependant, ici on évite les try pour quelque chose de plus \"pro\".\n",
    "\n",
    "            grille[l_user][c_user] = grillescore[l_user][c_user] #Remplacer la case\n",
    "            #Maintenant, il faut montrer les 8 voisins\n",
    "\n",
    "            if l_user - 1 >= 0 and c_user - 1 >= 0: #En haut à gauche\n",
    "                grille[l_user - 1][c_user - 1] = grillescore[l_user - 1][c_user - 1]\n",
    "\n",
    "            if l_user - 1 >= 0: #En haut au milieu\n",
    "                grille[l_user - 1][c_user] = grillescore[l_user - 1][c_user]\n",
    "\n",
    "            if l_user - 1 >= 0 and c_user + 1 <= len(grille[0]): #En haut à droite\n",
    "                grille[l_user - 1][c_user + 1] = grillescore[l_user - 1][c_user]\n",
    "\n",
    "            if c_user - 1 >= 0: #Au milieu à gauche\n",
    "                grille[l_user][c_user - 1] = grillescore[l_user][c_user - 1]\n",
    "            \n",
    "            if c_user + 1 <= len(grille[0]): #Au milieu à droite\n",
    "                grille[l_user][c_user + 1] = grillescore[l_user][c_user + 1]\n",
    "            \n",
    "            if l_user + 1 <= len(grille) and c_user - 1 <= len(grille[0]): #En bas à gauche\n",
    "                grille[l_user + 1][c_user - 1] = grillescore[l_user + 1][c_user - 1]\n",
    "            \n",
    "            if l_user + 1 <= len(grille): #En bas au milieu\n",
    "                grille[l_user + 1][c_user] = grillescore[l_user + 1][c_user]\n",
    "            \n",
    "            if l_user + 1 <= len(grille) and c_user + 1 <= len(grille[0]): #En bas à droite\n",
    "                grille[l_user + 1][c_user + 1] = grillescore[l_user + 1][c_user + 1]\n",
    "        \n",
    "        else: #le reste \n",
    "            grille[l_user][c_user] = int(grillescore[l_user][c_user])\n",
    "    \n",
    "    elif action == \"drapeau\":\n",
    "        if grillescore[l_user][c_user] == \"B\":\n",
    "            FBomb = True\n",
    "        grille[l_user][c_user] = \"F\"\n",
    "    \n",
    "    elif action == \"?\":\n",
    "        grille[l_user][c_user] = \"?\"\n",
    "    \n",
    "    return grille, n, FBomb\n",
    "\n",
    "a, b, c = gameplay(2, 2, \"marcher\", grille_cachee(mg), GrilleScore(mg))\n",
    "print(a, b, c)"
   ]
  },
  {
   "cell_type": "code",
   "execution_count": null,
   "metadata": {},
   "outputs": [],
   "source": [
    "print(type(grille_cachee(mg)[0][0]))\n",
    "print(grille_cachee(mg)[0][0])\n",
    "\n",
    "grille_aaaaaaa = grille_cachee(mg)\n",
    "#grille_aaaaaaa[0][0] = \"12\"\n",
    "\n",
    "print(grille_aaaaaaa)\n",
    "print(GrilleScore(mg)) #J'ai enfin compris. grille_cachee v1 ne faisais pas une liste de liste, mais juste une liste"
   ]
  },
  {
   "cell_type": "markdown",
   "metadata": {},
   "source": [
    "### Tentative de résoudre grille_cachee"
   ]
  },
  {
   "cell_type": "code",
   "execution_count": null,
   "metadata": {},
   "outputs": [],
   "source": [
    "def grille_cachee(liste_b): #Le but de cette matrice est d'être remplacé par la liste GrilleScore avec les appels du joueur\n",
    "    \"\"\"\n",
    "    Prends la grille bombée et numerotée, et retourne une grille cachée\n",
    "    \"\"\"\n",
    "    grille = []\n",
    "    grille_transit = []\n",
    "    for i in range(len(liste_b)):\n",
    "        for y in range(len(liste_b[0])):\n",
    "            grille_transit.append(\"□\")\n",
    "        grille.append(grille_transit)    \n",
    "    \n",
    "    return grille\n",
    "\n",
    "print(grille_cachee(GrilleScore(mg)))"
   ]
  },
  {
   "cell_type": "code",
   "execution_count": null,
   "metadata": {},
   "outputs": [],
   "source": [
    "grille_toto = []\n",
    "grille_tata = []\n",
    "\n",
    "for i in range(10):\n",
    "    for y in range(10):\n",
    "        grille_toto.append(\"H\")\n",
    "    grille_tata.append(grille_toto)\n",
    "printGrille(grille_tata)\n"
   ]
  },
  {
   "cell_type": "code",
   "execution_count": null,
   "metadata": {},
   "outputs": [],
   "source": [
    "def grille_cachee(liste_b): #Le but de cette matrice est d'être remplacé par la liste GrilleScore avec les appels du joueur\n",
    "    \"\"\"\n",
    "    Prends la grille bombée et numerotée, et retourne une grille cachée\n",
    "    \"\"\"\n",
    "    grille = []\n",
    "    for i in range(len(liste_b)): \n",
    "        grille.append(list(\"□\"*len(liste_b[0]))) #IL FALLAIT JUSTE TRANSFORMER LE STR EN LISTE JE VAIS DEVENIR FOU\n",
    "    return grille\n",
    "\n",
    "printGrille(grille_cachee(mg))"
   ]
  },
  {
   "cell_type": "code",
   "execution_count": null,
   "metadata": {},
   "outputs": [],
   "source": [
    "print(\"___________/|\\n (__|||__) \\| Bravo ! Vous avez gagné !\") #S'assurer que l'ASCII marche bien"
   ]
  },
  {
   "cell_type": "code",
   "execution_count": null,
   "metadata": {},
   "outputs": [],
   "source": [
    "patate = 3\n",
    "saucisse = 3\n",
    "chimpanze = 3\n",
    "chimpanze += 1\n",
    "\n",
    "patate == saucisse == chimpanze\n",
    "not patate == saucisse == chimpanze #Juste des simples vérifications de vérités\n",
    "chimpanze"
   ]
  },
  {
   "cell_type": "code",
   "execution_count": null,
   "metadata": {},
   "outputs": [],
   "source": [
    "saucisse = [1,2,3]\n",
    "type(saucisse)"
   ]
  },
  {
   "cell_type": "markdown",
   "metadata": {},
   "source": [
    "### Je deviens fou.\n",
    "Donc, il est le 7 janvier à 22h (à peine!), il est temps de prendre 5 minutes pour prendre du recul sur ce notebook et ce projet. Donc, pour ma part (Ardi):\n",
    "- J'ai bloqué pendant 1h parce que j'avais mis \"and\" et non \"or\" à la 11ème ligne de la fonction user_inter, et que du coup il ne relançait pas le user quand il avait inséré des infos fausses.\n",
    "- J'ai bloqué pendant 2h pour au final trouver que la fonction grille_cachee me retournait une liste de str, et non une liste de listes de str, et qu'il fallait juste ajouter un list() dans ce tas de code\n",
    "- Tomber sur une bombe ne fait rien. Aucune idée de comment corriger ce truc.\n",
    "- C'est marrant l'art ASCII.\n",
    "\n",
    "Update du 8 janvier, 1h34:\n",
    "- FALLAIT JUSTE METTRE LE TRUC DU GAMEOVER DANS LE WHILE (Annotation d'Ardi reposé -> C'était la solution à la non-fin du jeu après avoir touché une bombe)\n",
    "\n",
    "Parmis les autres problèmes qu'on a eu:\n",
    "- Énorme conflit entre nos deux version du journal de bord lors d'un push sur Github. En faisant le commit de ce journal de bord vidé de ses conflits, il était innouvrable parce qu'il manquait une accolade dans son codage json. Cependant, il m'a fallu bien du temps pour trouver cette accolade. L'erreur n'affichait que le byte sur lequel l'erreur se trouvait dans le json. Et, le seul moyen qu'il mettait possible de trouver ce byte était avec l'outil :goto de Vim. Après avoir réussi à trouver la partie incriminée, avoir fait passer le fichier .json dans des checkeurs en ligne, et [avoir quitté Vim](https://github.com/hakluke/how-to-exit-vim) (c'est réellement si compliqué que ça ou il y a une vanne que je comprends pas? je fais faux en faisant :q ?), j'ai réussi à \"sauver\" ce notebook.\n",
    "- Lorsqu'une case Zéro est touchée, elle montre ses 8 voisins, mais n'affiche pas plus loin. Nous ne savons pas comment aller plus loin.\n",
    "- Il a fallu se creuser longtemps la tête pour la fonction GrilleScore. Nous avons choisi de partir avec des \"try\", car cela nous parraissait comme étant le plus pratique."
   ]
  },
  {
   "cell_type": "markdown",
   "metadata": {},
   "source": [
    "### Cette fichue tortue\n",
    "\n",
    "Les fonctions turtle ont été faîtes en parallèle du code et de manière à être le plus souple par après.  \n",
    "Les dessins ont été fait par intuition, l'échelle et les positionnements des signes et chiffre par logique pour les centrer et par taton lorsque nécessaire.  \n",
    "Le seul problème rencontré était lié aux paramètre de la turtle qui ne sont pas propres aux fonctions, il faut donc faire atention à ce que les couleurs soient spécifiées au début des fonctions, et à ce que la turtle soit remise dans son orientation d'origine à la fin de chaque fonctions."
   ]
  },
  {
   "cell_type": "code",
   "execution_count": 8,
   "metadata": {},
   "outputs": [],
   "source": [
    "import turtle\n",
    "discworld = turtle.Screen() #ecran\n",
    "discworld.reset()\n",
    "turtle.reset()\n",
    "ATuin = turtle.Turtle()\n",
    "ATuin.speed(0)\n",
    "ATuin.shape(\"turtle\")\n"
   ]
  },
  {
   "cell_type": "code",
   "execution_count": null,
   "metadata": {},
   "outputs": [],
   "source": [
    "\n",
    "ATuin.fillcolor(\"gray\")\n",
    "for i in range(len(mg)):\n",
    "    for k in range(len(mg[i])):\n",
    "        ATuin.up() #évite de dessinner les déplacements\n",
    "        ATuin.goto(50*i,-50*k) #fait aller la tortue à la position de la case\n",
    "        ATuin.down() #commence à dessiner\n",
    "        ATuin.begin_fill() #commence le remplissage des cases\n",
    "        for x in range(4): # boucle qui dessine un carré\n",
    "            ATuin.forward(40)\n",
    "            ATuin.right(90)\n",
    "        ATuin.end_fill() #termine le remplissage des cases"
   ]
  },
  {
   "cell_type": "code",
   "execution_count": null,
   "metadata": {},
   "outputs": [],
   "source": [
    "for i in range(len(mg)):\n",
    "    ATuin.up()\n",
    "    if i < 10:\n",
    "        ATuin.goto(50*i+10,7)\n",
    "    else:\n",
    "        ATuin.goto(50*i,7)\n",
    "    ATuin.down()\n",
    "    ATuin.write(str(i), font=(\"Arial\", 30, \"normal\"))\n",
    "for k in range(len(mg[0])):\n",
    "    ATuin.up()\n",
    "    ATuin.goto(-50,-50*k-43)\n",
    "    ATuin.down()\n",
    "    ATuin.write(str(k), font=(\"Arial\", 30, \"normal\"))"
   ]
  },
  {
   "cell_type": "code",
   "execution_count": null,
   "metadata": {},
   "outputs": [],
   "source": [
    "def pointinterrogationtortue(x,y):\n",
    "    \"\"\"\n",
    "    Prend des coordonnées en paramètre et dessine un point d'interrogation, refait la case avant pour être sûr qu'elle ne comporte pas déja un signe\n",
    "    \"\"\"\n",
    "    ATuin.fillcolor(\"gray\")\n",
    "    ATuin.up() #évite de dessinner les déplacements\n",
    "    ATuin.goto(50*x,-50*y) #fait aller la tortue à la position de la case\n",
    "    ATuin.down() #commence à dessiner\n",
    "    ATuin.begin_fill() #commence le remplissage des cases\n",
    "    for z in range(4): # boucle qui dessine un carré\n",
    "        ATuin.forward(40)\n",
    "        ATuin.right(90)\n",
    "    ATuin.end_fill() #termine le remplissage des cases\n",
    "\n",
    "    ATuin.pencolor(\"red\")\n",
    "    ATuin.up()\n",
    "    ATuin.goto(50*x+10,-50*y-43)\n",
    "    ATuin.down()\n",
    "    ATuin.write(\"?\", font=(\"Arial\", 30, \"normal\"))\n",
    "    ATuin.pencolor(\"black\")"
   ]
  },
  {
   "cell_type": "code",
   "execution_count": null,
   "metadata": {},
   "outputs": [],
   "source": [
    "pointinterrogationtortue(5,3)"
   ]
  },
  {
   "cell_type": "code",
   "execution_count": null,
   "metadata": {},
   "outputs": [],
   "source": [
    "def drapeautortue(x,y):\n",
    "    \"\"\"\n",
    "    Prend des coordonnées en paramètre et dessine un drapeau, refait la case avant pour être sûr qu'elle ne comporte pas déja un signe\n",
    "    \"\"\"\n",
    "    ATuin.fillcolor(\"gray\")\n",
    "    ATuin.up() #évite de dessinner les déplacements\n",
    "    ATuin.goto(50*x,-50*y) #fait aller la tortue à la position de la case\n",
    "    ATuin.down() #commence à dessiner\n",
    "    ATuin.begin_fill() #commence le remplissage des cases\n",
    "    for z in range(4): # boucle qui dessine un carré\n",
    "        ATuin.forward(40)\n",
    "        ATuin.right(90)\n",
    "    ATuin.end_fill() #termine le remplissage des cases\n",
    "    ATuin.fillcolor(\"red\")\n",
    "    ATuin.up()\n",
    "    ATuin.goto(50*x+20,-50*y-35)\n",
    "    ATuin.down()\n",
    "    ATuin.left(90)\n",
    "    ATuin.forward(30)\n",
    "    ATuin.begin_fill()\n",
    "    ATuin.left(120)\n",
    "    ATuin.forward(15)\n",
    "    ATuin.left(120)\n",
    "    ATuin.forward(15)\n",
    "    ATuin.left(30)\n",
    "    ATuin.end_fill()"
   ]
  },
  {
   "cell_type": "code",
   "execution_count": null,
   "metadata": {},
   "outputs": [],
   "source": [
    "drapeautortue(5,5)"
   ]
  },
  {
   "cell_type": "code",
   "execution_count": null,
   "metadata": {},
   "outputs": [],
   "source": [
    "def nombrebombestortue(x,y,nombre):\n",
    "    \"\"\"\n",
    "    Prend des coordonnées et un nombre en paramètre et dessine un point ce chiffre, fait une case avec un remplissage blanc\n",
    "    \"\"\"\n",
    "    ATuin.fillcolor(\"white\")\n",
    "    ATuin.up() #évite de dessinner les déplacements\n",
    "    ATuin.goto(50*x,-50*y) #fait aller la tortue à la position de la case\n",
    "    ATuin.down() #commence à dessiner\n",
    "    ATuin.begin_fill() #commence le remplissage des cases\n",
    "    for z in range(4): # boucle qui dessine un carré\n",
    "        ATuin.forward(40)\n",
    "        ATuin.right(90)\n",
    "    ATuin.end_fill() #termine le remplissage des cases\n",
    "    if nombre != 0:\n",
    "        ATuin.pencolor(\"blue\")\n",
    "        ATuin.up()\n",
    "        ATuin.goto(50*x+10,-50*y-43)\n",
    "        ATuin.down()\n",
    "        ATuin.write(str(nombre), font=(\"Arial\", 30, \"normal\"))\n",
    "        ATuin.pencolor(\"black\")"
   ]
  },
  {
   "cell_type": "code",
   "execution_count": null,
   "metadata": {},
   "outputs": [],
   "source": [
    "nombrebombestortue(6,5,0)"
   ]
  },
  {
   "cell_type": "code",
   "execution_count": null,
   "metadata": {},
   "outputs": [],
   "source": [
    "def casenormaleturtle(y,x):\n",
    "    \"\"\"\n",
    "    Prend des coordonnées en paramètre et redessine la case en gris\n",
    "    \"\"\"\n",
    "    ATuin.fillcolor(\"grey\")\n",
    "    ATuin.up() #évite de dessinner les déplacements\n",
    "    ATuin.goto(50*x,-50*y) #fait aller la tortue à la position de la case\n",
    "    ATuin.down() #commence à dessiner\n",
    "    ATuin.begin_fill() #commence le remplissage des cases\n",
    "    for z in range(4): # boucle qui dessine un carré\n",
    "        ATuin.forward(40)\n",
    "        ATuin.right(90)\n",
    "    ATuin.end_fill() #termine le remplissage des cases"
   ]
  },
  {
   "cell_type": "code",
   "execution_count": null,
   "metadata": {},
   "outputs": [],
   "source": [
    "casenormaleturtle(6,5)"
   ]
  },
  {
   "cell_type": "code",
   "execution_count": 3,
   "metadata": {},
   "outputs": [],
   "source": [
    "def bombeturtle(y,x):\n",
    "    \"\"\"\n",
    "    Prend des coordonnées et un nombre en paramètre et dessine une bombe, refait la case avant pour être sûr qu'elle ne comporte pas déja un signe\n",
    "    \"\"\"\n",
    "    ATuin.fillcolor(\"white\")\n",
    "    ATuin.up() #évite de dessinner les déplacements\n",
    "    ATuin.goto(50*x,-50*y) #fait aller la tortue à la position de la case\n",
    "    ATuin.down() #commence à dessiner\n",
    "    ATuin.begin_fill() #commence le remplissage des cases\n",
    "    for z in range(4): # boucle qui dessine un carré\n",
    "        ATuin.forward(40)\n",
    "        ATuin.right(90)\n",
    "    ATuin.end_fill() #termine le remplissage des cases\n",
    "    ATuin.fillcolor(\"black\") #dessine une bombe\n",
    "    ATuin.up()\n",
    "    ATuin.goto(50*x+20,-50*y-35) #desssine une bombe\n",
    "    ATuin.down()\n",
    "    ATuin.fillcolor(\"black\")\n",
    "    ATuin.begin_fill()\n",
    "    ATuin.circle(10)\n",
    "    ATuin.end_fill()\n",
    "    ATuin.circle(10,160)\n",
    "    ATuin.left(90)\n",
    "    ATuin.circle(6,-180)\n",
    "    ATuin.fillcolor(\"yellow\")\n",
    "    ATuin.left(90)\n",
    "    ATuin.begin_fill()\n",
    "    ATuin.circle(2)\n",
    "    ATuin.end_fill()\n",
    "    ATuin.right(160)\n",
    "    "
   ]
  },
  {
   "cell_type": "code",
   "execution_count": 9,
   "metadata": {},
   "outputs": [],
   "source": [
    "bombeturtle(3,3)"
   ]
  },
  {
   "cell_type": "code",
   "execution_count": 10,
   "metadata": {},
   "outputs": [],
   "source": [
    "def bombeturtleflagee(y,x):\n",
    "    \"\"\"\n",
    "    Prend des coordonnées et un nombre en paramètre et dessine une bombe barrée, refait la case avant pour être sûr qu'elle ne comporte pas déja un signe\n",
    "    \"\"\"\n",
    "    ATuin.fillcolor(\"white\")\n",
    "    ATuin.up() #évite de dessinner les déplacements\n",
    "    ATuin.goto(50*x,-50*y) #fait aller la tortue à la position de la case\n",
    "    ATuin.down() #commence à dessiner\n",
    "    ATuin.begin_fill() #commence le remplissage des cases\n",
    "    for z in range(4): # boucle qui dessine un carré\n",
    "        ATuin.forward(40)\n",
    "        ATuin.right(90)\n",
    "    ATuin.end_fill() #termine le remplissage des cases\n",
    "    ATuin.fillcolor(\"black\") #dessine une bombe\n",
    "    ATuin.up()\n",
    "    ATuin.goto(50*x+20,-50*y-35) #desssine une bombe\n",
    "    ATuin.down()\n",
    "    ATuin.fillcolor(\"black\")\n",
    "    ATuin.begin_fill()\n",
    "    ATuin.circle(10)\n",
    "    ATuin.end_fill()\n",
    "    ATuin.circle(10,160)\n",
    "    ATuin.left(90)\n",
    "    ATuin.circle(6,-180)\n",
    "    ATuin.fillcolor(\"yellow\")\n",
    "    ATuin.left(90)\n",
    "    ATuin.begin_fill()\n",
    "    ATuin.circle(2)\n",
    "    ATuin.end_fill()\n",
    "    ATuin.right(160)\n",
    "    ATuin.goto(50*x,-50*y-40)\n",
    "    ATuin.color(\"red\")\n",
    "    ATuin.down()\n",
    "    ATuin.goto(50*x+40,-50*y)\n",
    "    ATuin.up()\n",
    "    ATuin.color(\"black\")\n",
    "    "
   ]
  },
  {
   "cell_type": "code",
   "execution_count": 11,
   "metadata": {},
   "outputs": [],
   "source": [
    "bombeturtleflagee(3,5)"
   ]
  },
  {
   "cell_type": "code",
   "execution_count": null,
   "metadata": {},
   "outputs": [],
   "source": [
    "ATuin.reset()"
   ]
  }
 ],
 "metadata": {
  "interpreter": {
   "hash": "dca0ade3e726a953b501b15e8e990130d2b7799f14cfd9f4271676035ebe5511"
  },
  "kernelspec": {
   "display_name": "Python 3.8.3 64-bit ('base': conda)",
   "name": "python3"
  },
  "language_info": {
   "codemirror_mode": {
    "name": "ipython",
    "version": 3
   },
   "file_extension": ".py",
   "mimetype": "text/x-python",
   "name": "python",
   "nbconvert_exporter": "python",
   "pygments_lexer": "ipython3",
   "version": "3.10.1"
  },
  "latex_envs": {
   "LaTeX_envs_menu_present": true,
   "autoclose": false,
   "autocomplete": true,
   "bibliofile": "biblio.bib",
   "cite_by": "apalike",
   "current_citInitial": 1,
   "eqLabelWithNumbers": true,
   "eqNumInitial": 1,
   "hotkeys": {
    "equation": "Ctrl-E",
    "itemize": "Ctrl-I"
   },
   "labels_anchors": false,
   "latex_user_defs": false,
   "report_style_numbering": false,
   "user_envs_cfg": false
  },
  "toc": {
   "base_numbering": 1,
   "nav_menu": {},
   "number_sections": true,
   "sideBar": true,
   "skip_h1_title": false,
   "title_cell": "Table of Contents",
   "title_sidebar": "Contents",
   "toc_cell": false,
   "toc_position": {},
   "toc_section_display": true,
   "toc_window_display": false
  }
 },
 "nbformat": 4,
 "nbformat_minor": 4
}
