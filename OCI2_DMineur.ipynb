{
 "cells": [
  {
   "cell_type": "markdown",
   "metadata": {},
   "source": [
    "# Journal de bord du projet\n",
    "\n",
    "Voici le fichier qui va servir de journal de bord et de fichier de prototypage\n",
    "\n",
    "## Création de la grille\n",
    "\n",
    "On va utiliser des liste imbriquées avec les valeurs suivantes pour représenter les différents cas"
   ]
  },
  {
   "cell_type": "markdown",
   "metadata": {},
   "source": [
    "Ci-dessous la liste des import nécessaires"
   ]
  },
  {
   "cell_type": "code",
   "execution_count": null,
   "metadata": {},
   "outputs": [],
   "source": [
    "import random\n",
    "import math"
   ]
  },
  {
   "cell_type": "code",
   "execution_count": null,
   "metadata": {},
   "outputs": [],
   "source": [
    "def magrille(l,c):\n",
    "    grille = []\n",
    "    for i in range(l):\n",
    "        grille.append([0]*c)\n",
    "    return grille"
   ]
  },
  {
   "cell_type": "code",
   "execution_count": null,
   "metadata": {},
   "outputs": [],
   "source": [
    "mg = magrille(5,5)"
   ]
  },
  {
   "cell_type": "code",
   "execution_count": null,
   "metadata": {},
   "outputs": [],
   "source": [
    "mg[0]"
   ]
  },
  {
   "cell_type": "markdown",
   "metadata": {},
   "source": [
    "## Fonction d'affichage de la grille"
   ]
  },
  {
   "cell_type": "code",
   "execution_count": null,
   "metadata": {},
   "outputs": [],
   "source": [
    "def printGrille(magrille):\n",
    "    nbligne = len(magrille)\n",
    "    nbcol = len(magrille[0])\n",
    "    affichage_col = \"- \"\n",
    "    for i in range(nbcol):\n",
    "        affichage_col += \" {0} \".format(i)\n",
    "    print(affichage_col)\n",
    "    for i in range(nbligne):\n",
    "        lignetexte = \"|\"\n",
    "        for j in range(nbcol):\n",
    "            lignetexte += \"{0} |\".format(magrille[i][j])\n",
    "        print(\"{0} {1}\".format(i, lignetexte))"
   ]
  },
  {
   "cell_type": "code",
   "execution_count": null,
   "metadata": {},
   "outputs": [],
   "source": [
    "printGrille(mg)"
   ]
  },
  {
   "cell_type": "markdown",
   "metadata": {},
   "source": [
    "## Placement des bombes\n",
    "\n",
    "On veut choisir n élément parmis les positions"
   ]
  },
  {
   "cell_type": "code",
   "execution_count": null,
   "metadata": {},
   "outputs": [],
   "source": [
    "def genPos(l,c):\n",
    "    pos = []\n",
    "    for i in range(l):\n",
    "        for j in range(c):\n",
    "            pos.append((i,j))\n",
    "    return pos"
   ]
  },
  {
   "cell_type": "code",
   "execution_count": null,
   "metadata": {},
   "outputs": [],
   "source": [
    "import random\n",
    "pos = genPos(10,10)\n",
    "random.sample(pos, 20)"
   ]
  },
  {
   "cell_type": "markdown",
   "metadata": {},
   "source": [
    "Pour choisir les positions des bombes aléatoirement on commence par générer toutes les positions possibles puis on choisit le nombre souhaité parmis ces positions avec `random.sample` qui permet de ne pas choisir 2 fois la même position."
   ]
  },
  {
   "cell_type": "code",
   "execution_count": null,
   "metadata": {},
   "outputs": [],
   "source": [
    "def putBomb(grille, nbBomb):\n",
    "    nbligne = len(grille)\n",
    "    nbcol = len(grille[0])\n",
    "    pos = genPos(nbligne, nbcol)\n",
    "    posBomb = random.sample(pos, nbBomb)\n",
    "    for bomb in posBomb:\n",
    "        grille[bomb[0]][bomb[1]] = \"B\"\n",
    "    return grille"
   ]
  },
  {
   "cell_type": "code",
   "execution_count": null,
   "metadata": {},
   "outputs": [],
   "source": [
    "mg = magrille(10,10)\n",
    "mgB = putBomb(mg,21)\n",
    "printGrille(mgB)"
   ]
  },
  {
   "cell_type": "markdown",
   "metadata": {},
   "source": [
    "Envisager d'utiliser les classes?"
   ]
  },
  {
   "cell_type": "code",
   "execution_count": null,
   "metadata": {},
   "outputs": [],
   "source": [
    "def BombScore(grille):\n",
    "    n = 0 #Compteur de score\n",
    "    for i in grille:\n",
    "        print(i)\n",
    "    return i"
   ]
  },
  {
   "cell_type": "code",
   "execution_count": null,
   "metadata": {},
   "outputs": [],
   "source": [
    "\n",
    "\n",
    "#Definition pour mettre des chiffres sur ce plateau\n",
    "\n",
    "#TODO: \n",
    "#FAIT - Réparer cette fonction -> Il compte des voisins qu'il n'a pas (empêcher les index négatifs)\n",
    "#- Faire l'UX (mettre dans une grille, cacher cette grille, et t'as capté)\n",
    "\n",
    "def GrilleScore(grille_bombee): #Entendre par là: la grille avec les bombes placées et rien de plus\n",
    "\n",
    "    for i in range(len(grille_bombee)):\n",
    "        for k in range(len(grille_bombee[i])): #Préciser de quelle liste on parle | Envisager le try ? -> Seule manière possible mais c'est PAS BEAU.\n",
    "            n = 0\n",
    "            if grille_bombee[i][k] == \"B\":\n",
    "                n = \"B\"     #Nbr de bombes voisins\n",
    "            else:\n",
    "                try:\n",
    "                    if grille_bombee[i - 1][k - 1] == \"B\" and i != 0 and k != 0: #En haut à gauche\n",
    "                        n += 1\n",
    "                except IndexError:\n",
    "                    pass\n",
    "                try:\n",
    "                    if grille_bombee[i][k - 1] == \"B\" and k != 0: #En haut au milieu\n",
    "                        n += 1\n",
    "                except IndexError:\n",
    "                    pass\n",
    "                try:\n",
    "                    if grille_bombee[i + 1][k - 1] == \"B\" and k != 0 and i != len(grille_bombee[i]): #En haut à droite\n",
    "                        n += 1\n",
    "                except IndexError:\n",
    "                    pass\n",
    "                try:\n",
    "                    if grille_bombee[i - 1][k] == \"B\" and i != 0: #Au milieu à gauche\n",
    "                        n += 1\n",
    "                except IndexError:\n",
    "                    pass\n",
    "                try:\n",
    "                    if grille_bombee[i + 1][k] == \"B\" and i != len(grille_bombee[i]) : #Au milieu à droite\n",
    "                        n += 1\n",
    "                except IndexError:\n",
    "                    pass\n",
    "                try:\n",
    "                    if grille_bombee[i - 1][k + 1] == \"B\" and i != 0 and k != len(grille_bombee[k]): #En bas à gauche\n",
    "                        n += 1\n",
    "                except IndexError:\n",
    "                    pass\n",
    "                try:\n",
    "                    if grille_bombee[i][k + 1] == \"B\" and k != len(grille_bombee[k]): #En bas au milieu\n",
    "                        n += 1\n",
    "                except IndexError:\n",
    "                    pass\n",
    "                try:\n",
    "                    if grille_bombee[i + 1][k + 1] == \"B\" and k != len(grille_bombee[k]) and i != len(grille_bombee[i]): #En bas à droite\n",
    "                        n += 1\n",
    "                except IndexError:\n",
    "                    pass\n",
    "            \n",
    "            grille_bombee[i][k] = n\n",
    "    return(grille_bombee)\n",
    "\n",
    "\n",
    "\n",
    "\n",
    "#           n = 0\n",
    "#           grille_full = grille_bombée\n",
    "#           if i == \"B\":\n",
    "            \n",
    "GrilleScore(mg)"
   ]
  },
  {
   "cell_type": "code",
   "execution_count": null,
   "metadata": {},
   "outputs": [],
   "source": [
    "printGrille(GrilleScore(mg)) #Ca marche, et ça c'est beau"
   ]
  },
  {
   "cell_type": "code",
   "execution_count": null,
   "metadata": {},
   "outputs": [],
   "source": [
    "# Comment faire l'affichage de la grille côté user?\n",
    "# - Créer une liste \"liste_cachee\" qui se dévoilera au fur et à mesure (Caractère ascii □, remplacé par sa valeur\n",
    "# avec la position appelée par le joueur)\n",
    "# Gameplay: La grille s'affiche, et le joueur appelle chaque case, en espérant que ça soit pas une bombe"
   ]
  },
  {
   "cell_type": "code",
   "execution_count": null,
   "metadata": {},
   "outputs": [],
   "source": [
    "def grille_cachee(liste_b): #Le but de cette matrice est d'être remplacé par la liste GrilleScore avec les appels du joueur\n",
    "    \"\"\"\n",
    "    Prends la grille bombée et numerotée, et retourne une grille cachée\n",
    "    \"\"\"\n",
    "    grille = []\n",
    "    for i in range(len(liste_b)): \n",
    "        grille.append(\"□\"*len(liste_b[0]))\n",
    "    return grille\n",
    "\n",
    "printGrille(grille_cachee(mg))"
   ]
  },
  {
   "cell_type": "code",
   "execution_count": null,
   "metadata": {},
   "outputs": [],
   "source": [
    "def grille_cachee(liste_b): #Le but de cette matrice est d'être remplacé par la liste GrilleScore avec les appels du joueur\n",
    "    \"\"\"\n",
    "    Prends la grille bombée et numerotée, et retourne une grille cachée\n",
    "    \"\"\"\n",
    "    grille = []\n",
    "    for i in range(len(liste_b)): \n",
    "        grille.append(\"□\"*len(liste_b[0]))\n",
    "    return grille\n",
    "\n",
    "printGrille(grille_cachee(mg))"
   ]
  },
  {
   "cell_type": "code",
   "execution_count": null,
   "metadata": {},
   "outputs": [],
   "source": [
    "def user_inter(): # Interaction user\n",
    "    \"\"\"\n",
    "    Demande les variables lignes colonnes et action au user pour savoir ce qu'il veut faire et retourne l_user, c_user et action tq. l_user = ligne choisie, c_user = colonne choisie et action = action choisie\n",
    "    action possible: marcher, drapeau, ?\n",
    "    \"\"\"\n",
    "    flag_nbr = False \n",
    "    flag_action = False\n",
    "\n",
    "    while flag_nbr == False and flag_action == False: #Testeurs pour savoir si les variables sont légales ou pas\n",
    "        try:    \n",
    "                l_user, c_user, action = input(\"Que voulez-vous faire? (ligne colonne action)\").split(\" \")\n",
    "        except ValueError:\n",
    "            print(\"Erreur: Nombre de paramètres faux\")  \n",
    "\n",
    "        try: #Verif de nombres l et c légal -> CASSé -> utiliser .isdigit\n",
    "            if l_user == str(int(l_user)) and c_user == str(int(c_user)): #TODO: Ajouter le test pour savoir si ces valeurs existent\n",
    "                l_user = int(l_user) #TODO: Relancer\n",
    "                c_user = int(c_user)\n",
    "                flag_nbr = True\n",
    "        except:\n",
    "            print(\"Erreur: Nombres impossibles\")\n",
    "        \n",
    "        try: #Verif action légal\n",
    "            if action == \"marcher\":\n",
    "                flag_action = True\n",
    "            elif action == \"drapeau\":\n",
    "                flag_action = True\n",
    "            elif action == \"?\":\n",
    "                flag_action = True\n",
    "        except:\n",
    "            print(\"Erreur: Action impossible\")\n",
    "            \n",
    "    \n",
    "    return l_user, c_user, action"
   ]
  },
  {
   "cell_type": "code",
   "execution_count": null,
   "metadata": {},
   "outputs": [],
   "source": [
    "user_inter()"
   ]
  },
  {
   "cell_type": "code",
   "execution_count": null,
   "metadata": {},
   "outputs": [],
   "source": [
    "l_user, c_user, action = input(\"Que voulez-vous faire? (ligne colonne action)\").split(\" \")"
   ]
  },
  {
   "cell_type": "code",
   "execution_count": null,
   "metadata": {},
   "outputs": [],
   "source": [
    "l_user"
   ]
  },
  {
   "cell_type": "code",
   "execution_count": null,
   "metadata": {},
   "outputs": [],
   "source": [
    "nb = \"45.5\""
   ]
  },
  {
   "cell_type": "code",
   "execution_count": null,
   "metadata": {},
   "outputs": [],
   "source": [
    "nb.isnumeric()"
   ]
  },
  {
   "cell_type": "code",
   "execution_count": null,
   "metadata": {},
   "outputs": [],
   "source": [
    "import turtle"
   ]
  },
  {
   "cell_type": "code",
   "execution_count": null,
   "metadata": {},
   "outputs": [],
   "source": [
    "discworld = turtle.Screen() #ecran\n",
    "ATuin = turtle.Turtle()\n",
    "ATuin.speed(0)\n",
    "ATuin.shape(\"turtle\")"
   ]
  },
  {
   "cell_type": "code",
   "execution_count": null,
   "metadata": {},
   "outputs": [],
   "source": [
    "for i in range(len(mg)):\n",
    "    for k in range(len(mg[i])):\n",
    "        ATuin.goto(i,k)\n",
    "        for i in range(4):\n",
    "            ATuin.forward(0.8)\n",
    "            ATuin.right(90)"
   ]
  }
 ],
 "metadata": {
  "interpreter": {
   "hash": "dca0ade3e726a953b501b15e8e990130d2b7799f14cfd9f4271676035ebe5511"
  },
  "kernelspec": {
   "display_name": "Python 3.8.3 64-bit ('base': conda)",
   "name": "python3"
  },
  "language_info": {
   "codemirror_mode": {
    "name": "ipython",
    "version": 3
   },
   "file_extension": ".py",
   "mimetype": "text/x-python",
   "name": "python",
   "nbconvert_exporter": "python",
   "pygments_lexer": "ipython3",
   "version": "3.8.3"
  },
  "latex_envs": {
   "LaTeX_envs_menu_present": true,
   "autoclose": false,
   "autocomplete": true,
   "bibliofile": "biblio.bib",
   "cite_by": "apalike",
   "current_citInitial": 1,
   "eqLabelWithNumbers": true,
   "eqNumInitial": 1,
   "hotkeys": {
    "equation": "Ctrl-E",
    "itemize": "Ctrl-I"
   },
   "labels_anchors": false,
   "latex_user_defs": false,
   "report_style_numbering": false,
   "user_envs_cfg": false
  },
  "toc": {
   "base_numbering": 1,
   "nav_menu": {},
   "number_sections": true,
   "sideBar": true,
   "skip_h1_title": false,
   "title_cell": "Table of Contents",
   "title_sidebar": "Contents",
   "toc_cell": false,
   "toc_position": {},
   "toc_section_display": true,
   "toc_window_display": false
  }
 },
 "nbformat": 4,
 "nbformat_minor": 4
}
