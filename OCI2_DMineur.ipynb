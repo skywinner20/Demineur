{
 "cells": [
  {
   "cell_type": "markdown",
   "metadata": {},
   "source": [
    "# Journal de bord du projet\n",
    "\n",
    "Voici le fichier qui va servir de journal de bord et de fichier de prototypage\n",
    "\n",
    "## Création de la grille\n",
    "\n",
    "On va utiliser des liste imbriquées avec les valeurs suivantes pour représenter les différents cas"
   ]
  },
  {
   "cell_type": "markdown",
   "metadata": {},
   "source": [
    "Ci-dessous la liste des import nécessaires"
   ]
  },
  {
   "cell_type": "code",
   "execution_count": 47,
   "metadata": {},
   "outputs": [],
   "source": [
    "import random\n",
    "import math"
   ]
  },
  {
   "cell_type": "code",
   "execution_count": 48,
   "metadata": {},
   "outputs": [],
   "source": [
    "def magrille(l,c):\n",
    "    grille = []\n",
    "    for i in range(l):\n",
    "        grille.append([0]*c)\n",
    "    return grille"
   ]
  },
  {
   "cell_type": "code",
   "execution_count": 49,
   "metadata": {},
   "outputs": [],
   "source": [
    "mg = magrille(5,5)"
   ]
  },
  {
   "cell_type": "code",
   "execution_count": 50,
   "metadata": {},
   "outputs": [
    {
     "data": {
      "text/plain": [
       "[0, 0, 0, 0, 0]"
      ]
     },
     "execution_count": 50,
     "metadata": {},
     "output_type": "execute_result"
    }
   ],
   "source": [
    "mg[0]"
   ]
  },
  {
   "cell_type": "markdown",
   "metadata": {},
   "source": [
    "## Fonction d'affichage de la grille"
   ]
  },
  {
   "cell_type": "code",
   "execution_count": 51,
   "metadata": {},
   "outputs": [],
   "source": [
    "def printGrille(magrille):\n",
    "    nbligne = len(magrille)\n",
    "    nbcol = len(magrille[0])\n",
    "    affichage_col = \"- \"\n",
    "    for i in range(nbcol):\n",
    "        affichage_col += \" {0} \".format(i)\n",
    "    print(affichage_col)\n",
    "    for i in range(nbligne):\n",
    "        lignetexte = \"|\"\n",
    "        for j in range(nbcol):\n",
    "            lignetexte += \"{0} |\".format(magrille[i][j])\n",
    "        print(\"{0} {1}\".format(i, lignetexte))"
   ]
  },
  {
   "cell_type": "code",
   "execution_count": 52,
   "metadata": {},
   "outputs": [
    {
     "name": "stdout",
     "output_type": "stream",
     "text": [
      "-  0  1  2  3  4 \n",
      "0 |0 |0 |0 |0 |0 |\n",
      "1 |0 |0 |0 |0 |0 |\n",
      "2 |0 |0 |0 |0 |0 |\n",
      "3 |0 |0 |0 |0 |0 |\n",
      "4 |0 |0 |0 |0 |0 |\n"
     ]
    }
   ],
   "source": [
    "printGrille(mg)"
   ]
  },
  {
   "cell_type": "markdown",
   "metadata": {},
   "source": [
    "## Placement des bombes\n",
    "\n",
    "On veut choisir n élément parmis les positions"
   ]
  },
  {
   "cell_type": "code",
   "execution_count": 53,
   "metadata": {},
   "outputs": [],
   "source": [
    "def genPos(l,c):\n",
    "    pos = []\n",
    "    for i in range(l):\n",
    "        for j in range(c):\n",
    "            pos.append((i,j))\n",
    "    return pos"
   ]
  },
  {
   "cell_type": "code",
   "execution_count": 54,
   "metadata": {},
   "outputs": [
    {
     "data": {
      "text/plain": [
       "[(6, 9),\n",
       " (9, 4),\n",
       " (0, 6),\n",
       " (1, 6),\n",
       " (8, 4),\n",
       " (4, 7),\n",
       " (9, 1),\n",
       " (1, 2),\n",
       " (2, 1),\n",
       " (4, 3),\n",
       " (1, 7),\n",
       " (6, 8),\n",
       " (4, 0),\n",
       " (5, 4),\n",
       " (7, 8),\n",
       " (1, 5),\n",
       " (6, 3),\n",
       " (6, 2),\n",
       " (6, 5),\n",
       " (6, 1)]"
      ]
     },
     "execution_count": 54,
     "metadata": {},
     "output_type": "execute_result"
    }
   ],
   "source": [
    "import random\n",
    "pos = genPos(10,10)\n",
    "random.sample(pos, 20)"
   ]
  },
  {
   "cell_type": "markdown",
   "metadata": {},
   "source": [
    "Pour choisir les positions des bombes aléatoirement on commence par générer toutes les positions possibles puis on choisit le nombre souhaité parmis ces positions avec `random.sample` qui permet de ne pas choisir 2 fois la même position."
   ]
  },
  {
   "cell_type": "code",
   "execution_count": 55,
   "metadata": {},
   "outputs": [],
   "source": [
    "def putBomb(grille, nbBomb):\n",
    "    \"\"\"\n",
    "    Prends la liste représentant la grille et le nb de bombes, et les places aléatoirement dans la grille\n",
    "    \"\"\"\n",
    "    nbligne = len(grille)\n",
    "    nbcol = len(grille[0])\n",
    "    pos = genPos(nbligne, nbcol)\n",
    "    posBomb = random.sample(pos, nbBomb)\n",
    "    for bomb in posBomb:\n",
    "        grille[bomb[0]][bomb[1]] = \"B\"\n",
    "    return grille"
   ]
  },
  {
   "cell_type": "code",
   "execution_count": 56,
   "metadata": {},
   "outputs": [
    {
     "name": "stdout",
     "output_type": "stream",
     "text": [
      "-  0  1  2  3  4  5  6  7  8  9 \n",
      "0 |0 |0 |0 |B |0 |0 |0 |0 |0 |0 |\n",
      "1 |0 |0 |0 |0 |0 |0 |0 |0 |0 |0 |\n",
      "2 |0 |0 |0 |0 |0 |0 |0 |0 |B |0 |\n",
      "3 |0 |0 |0 |B |0 |0 |0 |0 |B |0 |\n",
      "4 |B |0 |0 |B |0 |0 |0 |B |B |B |\n",
      "5 |0 |B |B |B |0 |0 |0 |0 |B |0 |\n",
      "6 |B |0 |0 |B |0 |0 |0 |0 |0 |0 |\n",
      "7 |0 |0 |B |0 |0 |0 |0 |0 |B |0 |\n",
      "8 |B |0 |0 |0 |B |0 |0 |0 |0 |0 |\n",
      "9 |0 |0 |0 |0 |0 |0 |0 |B |B |0 |\n"
     ]
    }
   ],
   "source": [
    "mg = magrille(10,10)\n",
    "mgB = putBomb(mg,21)\n",
    "printGrille(mgB)"
   ]
  },
  {
   "cell_type": "markdown",
   "metadata": {},
   "source": [
    "Envisager d'utiliser les classes?"
   ]
  },
  {
   "cell_type": "code",
   "execution_count": 57,
   "metadata": {},
   "outputs": [],
   "source": [
    "def BombScore(grille):\n",
    "    n = 0 #Compteur de score\n",
    "    for i in grille:\n",
    "        print(i)\n",
    "    return i"
   ]
  },
  {
   "cell_type": "code",
   "execution_count": 58,
   "metadata": {},
   "outputs": [
    {
     "data": {
      "text/plain": [
       "[[0, 0, 1, 'B', 1, 0, 0, 0, 0, 0],\n",
       " [0, 0, 1, 1, 1, 0, 0, 1, 1, 1],\n",
       " [0, 0, 1, 1, 1, 0, 0, 2, 'B', 2],\n",
       " [1, 1, 2, 'B', 2, 0, 1, 4, 'B', 4],\n",
       " ['B', 3, 5, 'B', 3, 0, 1, 'B', 'B', 'B'],\n",
       " [3, 'B', 'B', 'B', 3, 0, 1, 3, 'B', 3],\n",
       " ['B', 4, 5, 'B', 2, 0, 0, 2, 2, 2],\n",
       " [2, 3, 'B', 3, 2, 1, 0, 1, 'B', 1],\n",
       " ['B', 2, 1, 2, 'B', 1, 1, 3, 3, 2],\n",
       " [1, 1, 0, 1, 1, 1, 1, 'B', 'B', 1]]"
      ]
     },
     "execution_count": 58,
     "metadata": {},
     "output_type": "execute_result"
    }
   ],
   "source": [
    "\n",
    "\n",
    "#Definition pour mettre des chiffres sur ce plateau\n",
    "\n",
    "#TODO: \n",
    "#FAIT - Réparer cette fonction -> Il compte des voisins qu'il n'a pas (empêcher les index négatifs)\n",
    "#FAIT - Faire l'UX (mettre dans une grille, cacher cette grille, et t'as capté)\n",
    "\n",
    "def GrilleScore(grille_bombee): #Entendre par là: la grille avec les bombes placées et rien de plus\n",
    "    \"\"\"\n",
    "    Prends la grille bombée et mets les numéros en testant chaque case avec ses 8 voisins\n",
    "    \"\"\"\n",
    "\n",
    "    for i in range(len(grille_bombee)):\n",
    "        for k in range(len(grille_bombee[i])): #Préciser de quelle liste on parle | Envisager le try ? -> Seule manière possible mais c'est PAS BEAU.\n",
    "            n = 0\n",
    "            if grille_bombee[i][k] == \"B\":\n",
    "                n = \"B\"     #Nbr de bombes voisins\n",
    "            else:\n",
    "                try:\n",
    "                    if grille_bombee[i - 1][k - 1] == \"B\" and i != 0 and k != 0: #En haut à gauche\n",
    "                        n += 1\n",
    "                except IndexError:\n",
    "                    pass\n",
    "                try:\n",
    "                    if grille_bombee[i][k - 1] == \"B\" and k != 0: #En haut au milieu\n",
    "                        n += 1\n",
    "                except IndexError:\n",
    "                    pass\n",
    "                try:\n",
    "                    if grille_bombee[i + 1][k - 1] == \"B\" and k != 0 and i != len(grille_bombee[i]): #En haut à droite\n",
    "                        n += 1\n",
    "                except IndexError:\n",
    "                    pass\n",
    "                try:\n",
    "                    if grille_bombee[i - 1][k] == \"B\" and i != 0: #Au milieu à gauche\n",
    "                        n += 1\n",
    "                except IndexError:\n",
    "                    pass\n",
    "                try:\n",
    "                    if grille_bombee[i + 1][k] == \"B\" and i != len(grille_bombee[i]) : #Au milieu à droite\n",
    "                        n += 1\n",
    "                except IndexError:\n",
    "                    pass\n",
    "                try:\n",
    "                    if grille_bombee[i - 1][k + 1] == \"B\" and i != 0 and k != len(grille_bombee[k]): #En bas à gauche\n",
    "                        n += 1\n",
    "                except IndexError:\n",
    "                    pass\n",
    "                try:\n",
    "                    if grille_bombee[i][k + 1] == \"B\" and k != len(grille_bombee[k]): #En bas au milieu\n",
    "                        n += 1\n",
    "                except IndexError:\n",
    "                    pass\n",
    "                try:\n",
    "                    if grille_bombee[i + 1][k + 1] == \"B\" and k != len(grille_bombee[k]) and i != len(grille_bombee[i]): #En bas à droite\n",
    "                        n += 1\n",
    "                except IndexError:\n",
    "                    pass\n",
    "            \n",
    "            grille_bombee[i][k] = n\n",
    "    return(grille_bombee)\n",
    "\n",
    "\n",
    "\n",
    "\n",
    "#           n = 0\n",
    "#           grille_full = grille_bombée\n",
    "#           if i == \"B\":\n",
    "            \n",
    "GrilleScore(mg)"
   ]
  },
  {
   "cell_type": "code",
   "execution_count": 59,
   "metadata": {},
   "outputs": [
    {
     "name": "stdout",
     "output_type": "stream",
     "text": [
      "-  0  1  2  3  4  5  6  7  8  9 \n",
      "0 |0 |0 |1 |B |1 |0 |0 |0 |0 |0 |\n",
      "1 |0 |0 |1 |1 |1 |0 |0 |1 |1 |1 |\n",
      "2 |0 |0 |1 |1 |1 |0 |0 |2 |B |2 |\n",
      "3 |1 |1 |2 |B |2 |0 |1 |4 |B |4 |\n",
      "4 |B |3 |5 |B |3 |0 |1 |B |B |B |\n",
      "5 |3 |B |B |B |3 |0 |1 |3 |B |3 |\n",
      "6 |B |4 |5 |B |2 |0 |0 |2 |2 |2 |\n",
      "7 |2 |3 |B |3 |2 |1 |0 |1 |B |1 |\n",
      "8 |B |2 |1 |2 |B |1 |1 |3 |3 |2 |\n",
      "9 |1 |1 |0 |1 |1 |1 |1 |B |B |1 |\n"
     ]
    }
   ],
   "source": [
    "printGrille(GrilleScore(mg)) #Ca marche, et ça c'est beau"
   ]
  },
  {
   "cell_type": "code",
   "execution_count": 60,
   "metadata": {},
   "outputs": [],
   "source": [
    "# Comment faire l'affichage de la grille côté user?\n",
    "# - Créer une liste \"liste_cachee\" qui se dévoilera au fur et à mesure (Caractère ascii □, remplacé par sa valeur\n",
    "# avec la position appelée par le joueur)\n",
    "# Gameplay: La grille s'affiche, et le joueur appelle chaque case, en espérant que ça soit pas une bombe"
   ]
  },
  {
   "cell_type": "code",
   "execution_count": 61,
   "metadata": {},
   "outputs": [
    {
     "name": "stdout",
     "output_type": "stream",
     "text": [
      "-  0  1  2  3  4  5  6  7  8  9 \n",
      "0 |□ |□ |□ |□ |□ |□ |□ |□ |□ |□ |\n",
      "1 |□ |□ |□ |□ |□ |□ |□ |□ |□ |□ |\n",
      "2 |□ |□ |□ |□ |□ |□ |□ |□ |□ |□ |\n",
      "3 |□ |□ |□ |□ |□ |□ |□ |□ |□ |□ |\n",
      "4 |□ |□ |□ |□ |□ |□ |□ |□ |□ |□ |\n",
      "5 |□ |□ |□ |□ |□ |□ |□ |□ |□ |□ |\n",
      "6 |□ |□ |□ |□ |□ |□ |□ |□ |□ |□ |\n",
      "7 |□ |□ |□ |□ |□ |□ |□ |□ |□ |□ |\n",
      "8 |□ |□ |□ |□ |□ |□ |□ |□ |□ |□ |\n",
      "9 |□ |□ |□ |□ |□ |□ |□ |□ |□ |□ |\n"
     ]
    }
   ],
   "source": [
    "def grille_cachee(liste_b): #Le but de cette matrice est d'être remplacé par la liste GrilleScore avec les appels du joueur\n",
    "    \"\"\"\n",
    "    Prends la grille bombée et numerotée, et retourne une grille cachée\n",
    "    \"\"\"\n",
    "    grille = []\n",
    "    for i in range(len(liste_b)): \n",
    "        grille.append(\"□\"*len(liste_b[0]))\n",
    "    return grille\n",
    "\n",
    "printGrille(grille_cachee(mg))"
   ]
  },
  {
   "cell_type": "code",
   "execution_count": 62,
   "metadata": {},
   "outputs": [
    {
     "name": "stdout",
     "output_type": "stream",
     "text": [
      "-  0  1  2  3  4  5  6  7  8  9 \n",
      "0 |□ |□ |□ |□ |□ |□ |□ |□ |□ |□ |\n",
      "1 |□ |□ |□ |□ |□ |□ |□ |□ |□ |□ |\n",
      "2 |□ |□ |□ |□ |□ |□ |□ |□ |□ |□ |\n",
      "3 |□ |□ |□ |□ |□ |□ |□ |□ |□ |□ |\n",
      "4 |□ |□ |□ |□ |□ |□ |□ |□ |□ |□ |\n",
      "5 |□ |□ |□ |□ |□ |□ |□ |□ |□ |□ |\n",
      "6 |□ |□ |□ |□ |□ |□ |□ |□ |□ |□ |\n",
      "7 |□ |□ |□ |□ |□ |□ |□ |□ |□ |□ |\n",
      "8 |□ |□ |□ |□ |□ |□ |□ |□ |□ |□ |\n",
      "9 |□ |□ |□ |□ |□ |□ |□ |□ |□ |□ |\n"
     ]
    }
   ],
   "source": [
    "def grille_cachee(liste_b): #Le but de cette matrice est d'être remplacé par la liste GrilleScore avec les appels du joueur\n",
    "    \"\"\"\n",
    "    Prends la grille bombée et numerotée, et retourne une grille cachée\n",
    "    \"\"\"\n",
    "    grille = []\n",
    "    for i in range(len(liste_b)): \n",
    "        grille.append(\"□\"*len(liste_b[0]))\n",
    "    return grille\n",
    "\n",
    "printGrille(grille_cachee(mg))"
   ]
  },
  {
   "cell_type": "code",
   "execution_count": 63,
   "metadata": {},
   "outputs": [
    {
     "name": "stdout",
     "output_type": "stream",
     "text": [
      "Erreur: Nombre de paramètres faux\n"
     ]
    },
    {
     "ename": "UnboundLocalError",
     "evalue": "local variable 'l_user' referenced before assignment",
     "output_type": "error",
     "traceback": [
      "\u001b[1;31m---------------------------------------------------------------------------\u001b[0m",
      "\u001b[1;31mUnboundLocalError\u001b[0m                         Traceback (most recent call last)",
      "\u001b[1;32m<ipython-input-63-231980badc7d>\u001b[0m in \u001b[0;36m<module>\u001b[1;34m\u001b[0m\n\u001b[0;32m     45\u001b[0m     \u001b[1;32mreturn\u001b[0m \u001b[0ml_user\u001b[0m\u001b[1;33m,\u001b[0m \u001b[0mc_user\u001b[0m\u001b[1;33m,\u001b[0m \u001b[0maction\u001b[0m\u001b[1;33m\u001b[0m\u001b[1;33m\u001b[0m\u001b[0m\n\u001b[0;32m     46\u001b[0m \u001b[1;33m\u001b[0m\u001b[0m\n\u001b[1;32m---> 47\u001b[1;33m \u001b[0muser_inter\u001b[0m\u001b[1;33m(\u001b[0m\u001b[0mGrilleScore\u001b[0m\u001b[1;33m(\u001b[0m\u001b[0mmg\u001b[0m\u001b[1;33m)\u001b[0m\u001b[1;33m)\u001b[0m\u001b[1;33m\u001b[0m\u001b[1;33m\u001b[0m\u001b[0m\n\u001b[0m",
      "\u001b[1;32m<ipython-input-63-231980badc7d>\u001b[0m in \u001b[0;36muser_inter\u001b[1;34m(liste_grille)\u001b[0m\n\u001b[0;32m     15\u001b[0m \u001b[1;33m\u001b[0m\u001b[0m\n\u001b[0;32m     16\u001b[0m         \u001b[1;32mtry\u001b[0m\u001b[1;33m:\u001b[0m \u001b[1;31m#Bien des valeurs\u001b[0m\u001b[1;33m\u001b[0m\u001b[1;33m\u001b[0m\u001b[0m\n\u001b[1;32m---> 17\u001b[1;33m             \u001b[0ml_user\u001b[0m \u001b[1;33m=\u001b[0m \u001b[0mint\u001b[0m\u001b[1;33m(\u001b[0m\u001b[0ml_user\u001b[0m\u001b[1;33m)\u001b[0m\u001b[1;33m\u001b[0m\u001b[1;33m\u001b[0m\u001b[0m\n\u001b[0m\u001b[0;32m     18\u001b[0m             \u001b[0mc_user\u001b[0m \u001b[1;33m=\u001b[0m \u001b[0mint\u001b[0m\u001b[1;33m(\u001b[0m\u001b[0mc_user\u001b[0m\u001b[1;33m)\u001b[0m\u001b[1;33m\u001b[0m\u001b[1;33m\u001b[0m\u001b[0m\n\u001b[0;32m     19\u001b[0m             \u001b[0mflag_nbr_mem\u001b[0m \u001b[1;33m=\u001b[0m \u001b[1;32mTrue\u001b[0m\u001b[1;33m\u001b[0m\u001b[1;33m\u001b[0m\u001b[0m\n",
      "\u001b[1;31mUnboundLocalError\u001b[0m: local variable 'l_user' referenced before assignment"
     ]
    }
   ],
   "source": [
    "def user_inter(liste_grille): # Interaction user\n",
    "    \"\"\"\n",
    "    Prends la liste de la grille, demande les variables lignes colonnes action au user pour savoir ce qu'il veut faire et retourne l_user, c_user et action tq. l_user = ligne choisie, c_user = colonne choisie et action = action choisie\n",
    "    action possible: marcher, drapeau, ?\n",
    "    \"\"\"\n",
    "    flag_nbr = False #Flag pour les nombres\n",
    "    flag_action = False #Flag pour l'action\n",
    "    flag_nbr_mem = False #Flag de mémoire pour les nombres\n",
    "\n",
    "    while flag_nbr == False or flag_action == False: #Testeurs pour savoir si les variables sont légales ou pas\n",
    "        try:    \n",
    "            l_user, c_user, action = input(\"Que voulez-vous faire? (ligne colonne action)\").split(\" \")\n",
    "        except ValueError:\n",
    "            print(\"Erreur: Nombre de paramètres faux\") \n",
    "\n",
    "        try: #Bien des valeurs\n",
    "            l_user = int(l_user)\n",
    "            c_user = int(c_user)\n",
    "            flag_nbr_mem = True\n",
    "        except ValueError:\n",
    "            print(\"Erreur: Nombre(s) incorrecte(s)\")\n",
    "\n",
    "        #if l_user.isdigit == True and c_user.isdigit == True: #Verif de nombres l et c légal\n",
    "        if flag_nbr_mem == True:\n",
    "            if 0 <= l_user <= len(liste_grille) and 0 <= c_user <= len(liste_grille[0]): #Si les valeurs existent\n",
    "                l_user = int(l_user)\n",
    "                c_user = int(c_user)\n",
    "                flag_nbr = True\n",
    "            else:\n",
    "                print(\"Erreur: Nombres impossibles, ils ne sont pas dans la grille\")\n",
    "        \n",
    "        try: #Verif action légal\n",
    "            if action == \"marcher\":\n",
    "                flag_action = True\n",
    "            elif action == \"drapeau\":\n",
    "                flag_action = True\n",
    "            elif action == \"?\":\n",
    "                flag_action = True\n",
    "            else:\n",
    "                print(\"Erreur: Action incorrecte\")\n",
    "        except ValueError:\n",
    "            print(\"Erreur: Action incorrecte\")\n",
    "            \n",
    "    \n",
    "    return l_user, c_user, action\n",
    "\n",
    "user_inter(GrilleScore(mg))"
   ]
  },
  {
   "cell_type": "code",
   "execution_count": null,
   "metadata": {},
   "outputs": [],
   "source": [
    "i = 0\n",
    "flag = False\n",
    "\n",
    "while flag == False:\n",
    "    print(i)\n",
    "    i = i+1\n",
    "    if i > 10:\n",
    "        flag = True"
   ]
  },
  {
   "cell_type": "code",
   "execution_count": null,
   "metadata": {},
   "outputs": [],
   "source": [
    "l_user, c_user, action = 2, 2, \"marcher\" #TODO : remplacer par la fonction user_inter\n",
    "\n",
    "def gameplay(l_user, c_user, action): #Là ou va se jouer le GAMING (interaction userinput et grille)\n",
    "    \"\"\"\n",
    "    Prends les valeurs l_user, c_user et action, et retourne la grille modifiée en circonstance\n",
    "    \"\"\"\n",
    "    if action == \"marcher\":\n",
    "        "
   ]
  },
  {
   "cell_type": "code",
   "execution_count": null,
   "metadata": {},
   "outputs": [
    {
     "name": "stdout",
     "output_type": "stream",
     "text": [
      "test\n"
     ]
    }
   ],
   "source": [
    "k = -1\n",
    "if k + 1 == 0:\n",
    "    print(\"test\")"
   ]
  },
  {
   "cell_type": "code",
   "execution_count": 66,
   "metadata": {},
   "outputs": [],
   "source": [
    "k = [1,2,3]\n",
    "if k == True:\n",
    "    print(\"test\")"
   ]
  },
  {
   "cell_type": "code",
   "execution_count": null,
   "metadata": {},
   "outputs": [],
   "source": [
    "def gameplay(l_user, c_user, action, grille, grillescore): #Là ou va se jouer le GAMING (interaction userinput et grille)\n",
    "    \"\"\"\n",
    "    Prends les valeurs l_user, c_user, action, grille que modifie le joueur, la grille scorée, et retourne la grille modifiée en circonstance et n\n",
    "\n",
    "    n = False si problème avec case (déjà ouverte ou protégée)\n",
    "    n = True si drapeau sur bombe\n",
    "    \"\"\"\n",
    "    n = False\n",
    "\n",
    "    if action == \"marcher\":\n",
    "\n",
    "        if grille[l_user][c_user] != \"□\" or grille[l_user][c_user] == \"F\" or grille[l_user][c_user] == \"?\": #Case innouvrable\n",
    "            n = False\n",
    "\n",
    "        elif grillescore[l_user][c_user] == \"B\": # Bombe\n",
    "            GameOver()\n",
    "\n",
    "        elif grillescore[l_user][c_user] == 0: # Zéro\n",
    "\n",
    "            grille[l_user][c_user] = grillescore[l_user][c_user] #Remplacer la case\n",
    "            #Maintenant, il faut montrer les 8 voisins\n",
    "\n",
    "            if l_user - 1 >= 0 and c_user - 1 >= 0: #En haut à gauche\n",
    "                grille[l_user - 1][c_user - 1] = grillescore[l_user - 1][c_user - 1]\n",
    "\n",
    "            if l_user - 1 >= 0: #En haut au milieu\n",
    "                grille[l_user - 1][c_user] = grillescore[l_user - 1][c_user]\n",
    "\n",
    "            if l_user - 1 >= 0 and c_user + 1 <= len(grille[0]): #En haut à droite\n",
    "                grille[l_user - 1][c_user + 1] = grillescore[l_user - 1][c_user]\n",
    "\n",
    "            if c_user - 1 >= 0: #Au milieu à gauche\n",
    "                grille[l_user][c_user - 1] = grillescore[l_user][c_user - 1]\n",
    "            \n",
    "            if c_user + 1 <= len(grille[0]): #Au milieu à droite\n",
    "                grille[l_user][c_user + 1] = grillescore[l_user][c_user + 1]\n",
    "            \n",
    "            if l_user + 1 <= len(grille) and c_user - 1 <= len(grille[0]): #En bas à gauche\n",
    "                grille[l_user + 1][c_user - 1] = grillescore[l_user + 1][c_user - 1]\n",
    "            \n",
    "            if l_user + 1 <= len(grille): #En bas au milieu\n",
    "                grille[l_user + 1][c_user] = grillescore[l_user + 1][c_user]\n",
    "            \n",
    "            if l_user + 1 <= len(grille) and c_user + 1 <= len(grille[0]): #En bas à droite\n",
    "                grille[l_user + 1][c_user + 1] = grillescore[l_user + 1][c_user + 1]\n",
    "        \n",
    "        else: #le reste \n",
    "            grille[l_user][c_user] = grillescore[l_user][c_user]\n",
    "    \n",
    "    elif action == \"drapeau\":\n",
    "        if grillescore[l_user][c_user] == \"B\":\n",
    "            n = True\n",
    "        grille[l_user][c_user] = \"F\"\n",
    "    \n",
    "    elif action == \"?\":\n",
    "        grille[l_user][c_user] = \"?\""
   ]
  },
  {
   "cell_type": "markdown",
   "metadata": {},
   "source": [
    "### Cette fichue tortue\n",
    "\n",
    "Bonne chance Cédric"
   ]
  },
  {
   "cell_type": "code",
   "execution_count": null,
   "metadata": {},
   "outputs": [],
   "source": [
    "import turtle\n",
    "discworld = turtle.Screen() #ecran\n",
    "discworld.reset()\n",
    "turtle.reset()\n",
    "ATuin = turtle.Turtle()\n",
    "ATuin.speed(0)\n",
    "ATuin.shape(\"turtle\")\n"
   ]
  },
  {
   "cell_type": "code",
   "execution_count": null,
   "metadata": {},
   "outputs": [],
   "source": [
    "\n",
    "ATuin.fillcolor(\"gray\")\n",
    "for i in range(len(mg)):\n",
    "    for k in range(len(mg[i])):\n",
    "        ATuin.up() #évite de dessinner les déplacements\n",
    "        ATuin.goto(50*i,-50*k) #fait aller la tortue à la position de la case\n",
    "        ATuin.down() #commence à dessiner\n",
    "        ATuin.begin_fill() #commence le remplissage des cases\n",
    "        for x in range(4): # boucle qui dessine un carré\n",
    "            ATuin.forward(40)\n",
    "            ATuin.right(90)\n",
    "        ATuin.end_fill() #termine le remplissage des cases"
   ]
  },
  {
   "cell_type": "code",
   "execution_count": null,
   "metadata": {},
   "outputs": [],
   "source": [
    "for i in range(len(mg)):\n",
    "    ATuin.up()\n",
    "    ATuin.goto(50*i+10,7)\n",
    "    ATuin.down()\n",
    "    ATuin.write(str(i), font=(\"Arial\", 30, \"normal\"))\n",
    "for k in range(len(mg[0])):\n",
    "    ATuin.up()\n",
    "    ATuin.goto(-40,-50*k-43)\n",
    "    ATuin.down()\n",
    "    ATuin.write(str(k), font=(\"Arial\", 30, \"normal\"))"
   ]
  },
  {
   "cell_type": "code",
   "execution_count": null,
   "metadata": {},
   "outputs": [],
   "source": [
    "def pointinterrogationtortue(x,y):\n",
    "    \"\"\"\n",
    "    Prend des coordonnées en paramètre et dessine un point d'interrogation, refait la case avant pour être sûr qu'elle ne comporte pas déja un signe\n",
    "    \"\"\"\n",
    "    ATuin.fillcolor(\"gray\")\n",
    "    ATuin.up() #évite de dessinner les déplacements\n",
    "    ATuin.goto(50*x,-50*y) #fait aller la tortue à la position de la case\n",
    "    ATuin.down() #commence à dessiner\n",
    "    ATuin.begin_fill() #commence le remplissage des cases\n",
    "    for z in range(4): # boucle qui dessine un carré\n",
    "        ATuin.forward(40)\n",
    "        ATuin.right(90)\n",
    "    ATuin.end_fill() #termine le remplissage des cases\n",
    "\n",
    "    ATuin.pencolor(\"red\")\n",
    "    ATuin.up()\n",
    "    ATuin.goto(50*x+10,-50*y-43)\n",
    "    ATuin.down()\n",
    "    ATuin.write(\"?\", font=(\"Arial\", 30, \"normal\"))\n",
    "    ATuin.pencolor(\"black\")"
   ]
  },
  {
   "cell_type": "code",
   "execution_count": null,
   "metadata": {},
   "outputs": [],
   "source": [
    "pointinterrogationtortue(5,3)"
   ]
  },
  {
   "cell_type": "code",
   "execution_count": null,
   "metadata": {},
   "outputs": [],
   "source": [
    "def drapeautortue(x,y):\n",
    "    \"\"\"\n",
    "    Prend des coordonnées en paramètre et dessine un drapeau, refait la case avant pour être sûr qu'elle ne comporte pas déja un signe\n",
    "    \"\"\"\n",
    "    ATuin.fillcolor(\"gray\")\n",
    "    ATuin.up() #évite de dessinner les déplacements\n",
    "    ATuin.goto(50*x,-50*y) #fait aller la tortue à la position de la case\n",
    "    ATuin.down() #commence à dessiner\n",
    "    ATuin.begin_fill() #commence le remplissage des cases\n",
    "    for z in range(4): # boucle qui dessine un carré\n",
    "        ATuin.forward(40)\n",
    "        ATuin.right(90)\n",
    "    ATuin.end_fill() #termine le remplissage des cases\n",
    "    ATuin.fillcolor(\"red\")\n",
    "    ATuin.up()\n",
    "    ATuin.goto(50*x+20,-50*y-35)\n",
    "    ATuin.down()\n",
    "    ATuin.left(90)\n",
    "    ATuin.forward(30)\n",
    "    ATuin.begin_fill()\n",
    "    ATuin.left(120)\n",
    "    ATuin.forward(15)\n",
    "    ATuin.left(120)\n",
    "    ATuin.forward(15)\n",
    "    ATuin.left(30)\n",
    "    ATuin.end_fill()"
   ]
  },
  {
   "cell_type": "code",
   "execution_count": null,
   "metadata": {},
   "outputs": [],
   "source": [
    "drapeautortue(5,5)"
   ]
  },
  {
   "cell_type": "code",
   "execution_count": null,
   "metadata": {},
   "outputs": [],
   "source": [
    "def nombrebombestortue(x,y,nombre):\n",
    "    \"\"\"\n",
    "    Prend des coordonnées et un nombre en paramètre et dessine un point ce chiffre, fait une case avec un remplissage blanc\n",
    "    \"\"\"\n",
    "    ATuin.fillcolor(\"white\")\n",
    "    ATuin.up() #évite de dessinner les déplacements\n",
    "    ATuin.goto(50*x,-50*y) #fait aller la tortue à la position de la case\n",
    "    ATuin.down() #commence à dessiner\n",
    "    ATuin.begin_fill() #commence le remplissage des cases\n",
    "    for z in range(4): # boucle qui dessine un carré\n",
    "        ATuin.forward(40)\n",
    "        ATuin.right(90)\n",
    "    ATuin.end_fill() #termine le remplissage des cases\n",
    "    if nombre != 0:\n",
    "        ATuin.pencolor(\"blue\")\n",
    "        ATuin.up()\n",
    "        ATuin.goto(50*x+10,-50*y-43)\n",
    "        ATuin.down()\n",
    "        ATuin.write(str(nombre), font=(\"Arial\", 30, \"normal\"))\n",
    "        ATuin.pencolor(\"black\")"
   ]
  },
  {
   "cell_type": "code",
   "execution_count": null,
   "metadata": {},
   "outputs": [],
   "source": [
    "nombrebombestortue(6,5,0)"
   ]
  },
  {
   "cell_type": "code",
   "execution_count": null,
   "metadata": {},
   "outputs": [],
   "source": []
  }
 ],
 "metadata": {
  "interpreter": {
   "hash": "dca0ade3e726a953b501b15e8e990130d2b7799f14cfd9f4271676035ebe5511"
  },
  "kernelspec": {
   "display_name": "Python 3.8.3 64-bit ('base': conda)",
   "name": "python3"
  },
  "language_info": {
   "codemirror_mode": {
    "name": "ipython",
    "version": 3
   },
   "file_extension": ".py",
   "mimetype": "text/x-python",
   "name": "python",
   "nbconvert_exporter": "python",
   "pygments_lexer": "ipython3",
   "version": "3.8.8"
  },
  "latex_envs": {
   "LaTeX_envs_menu_present": true,
   "autoclose": false,
   "autocomplete": true,
   "bibliofile": "biblio.bib",
   "cite_by": "apalike",
   "current_citInitial": 1,
   "eqLabelWithNumbers": true,
   "eqNumInitial": 1,
   "hotkeys": {
    "equation": "Ctrl-E",
    "itemize": "Ctrl-I"
   },
   "labels_anchors": false,
   "latex_user_defs": false,
   "report_style_numbering": false,
   "user_envs_cfg": false
  },
  "toc": {
   "base_numbering": 1,
   "nav_menu": {},
   "number_sections": true,
   "sideBar": true,
   "skip_h1_title": false,
   "title_cell": "Table of Contents",
   "title_sidebar": "Contents",
   "toc_cell": false,
   "toc_position": {},
   "toc_section_display": true,
   "toc_window_display": false
  }
 },
 "nbformat": 4,
 "nbformat_minor": 4
}
