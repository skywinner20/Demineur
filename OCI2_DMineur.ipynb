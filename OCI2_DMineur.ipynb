{
 "cells": [
  {
   "cell_type": "markdown",
   "source": [
    "# Journal de bord du projet\n",
    "\n",
    "Voici le fichier qui va servir de journal de bord et de fichier de prototypage\n",
    "\n",
    "## Création de la grille\n",
    "\n",
    "On va utiliser des liste imbriquées avec les valeurs suivantes pour représenter les différents cas"
   ],
   "metadata": {}
  },
  {
   "cell_type": "markdown",
   "source": [
    "Ci-dessous la liste des import nécessaires"
   ],
   "metadata": {}
  },
  {
   "cell_type": "code",
   "execution_count": 68,
   "source": [
    "import random\n",
    "import math"
   ],
   "outputs": [],
   "metadata": {}
  },
  {
   "cell_type": "code",
   "execution_count": 69,
   "source": [
    "def magrille(l,c):\n",
    "    grille = []\n",
    "    for i in range(l):\n",
    "        grille.append([0]*c)\n",
    "    return grille"
   ],
   "outputs": [],
   "metadata": {}
  },
  {
   "cell_type": "code",
   "execution_count": 70,
   "source": [
    "mg = magrille(5,5)"
   ],
   "outputs": [],
   "metadata": {}
  },
  {
   "cell_type": "code",
   "execution_count": 71,
   "source": [
    "mg[0]"
   ],
   "outputs": [
    {
     "output_type": "execute_result",
     "data": {
      "text/plain": [
       "[0, 0, 0, 0, 0]"
      ]
     },
     "metadata": {},
     "execution_count": 71
    }
   ],
   "metadata": {}
  },
  {
   "cell_type": "markdown",
   "source": [
    "## Fonction d'affichage de la grille"
   ],
   "metadata": {}
  },
  {
   "cell_type": "code",
   "execution_count": 72,
   "source": [
    "def printGrille(magrille):\n",
    "    nbligne = len(magrille)\n",
    "    nbcol = len(magrille[0])\n",
    "    affichage_col = \"- \"\n",
    "    for i in range(nbcol):\n",
    "        affichage_col += \" {0} \".format(i)\n",
    "    print(affichage_col)\n",
    "    for i in range(nbligne):\n",
    "        lignetexte = \"|\"\n",
    "        for j in range(nbcol):\n",
    "            lignetexte += \"{0} |\".format(magrille[i][j])\n",
    "        print(\"{0} {1}\".format(i, lignetexte))"
   ],
   "outputs": [],
   "metadata": {}
  },
  {
   "cell_type": "code",
   "execution_count": 73,
   "source": [
    "printGrille(mg)"
   ],
   "outputs": [
    {
     "output_type": "stream",
     "name": "stdout",
     "text": [
      "-  0  1  2  3  4 \n",
      "0 |0 |0 |0 |0 |0 |\n",
      "1 |0 |0 |0 |0 |0 |\n",
      "2 |0 |0 |0 |0 |0 |\n",
      "3 |0 |0 |0 |0 |0 |\n",
      "4 |0 |0 |0 |0 |0 |\n"
     ]
    }
   ],
   "metadata": {}
  },
  {
   "cell_type": "markdown",
   "source": [
    "## Placement des bombes\n",
    "\n",
    "On veut choisir n élément parmis les positions"
   ],
   "metadata": {}
  },
  {
   "cell_type": "code",
   "execution_count": 74,
   "source": [
    "def genPos(l,c):\n",
    "    pos = []\n",
    "    for i in range(l):\n",
    "        for j in range(c):\n",
    "            pos.append((i,j))\n",
    "    return pos"
   ],
   "outputs": [],
   "metadata": {}
  },
  {
   "cell_type": "code",
   "execution_count": 75,
   "source": [
    "import random\n",
    "pos = genPos(10,10)\n",
    "random.sample(pos, 20)"
   ],
   "outputs": [
    {
     "output_type": "execute_result",
     "data": {
      "text/plain": [
       "[(7, 0),\n",
       " (5, 9),\n",
       " (7, 5),\n",
       " (2, 1),\n",
       " (8, 2),\n",
       " (8, 4),\n",
       " (7, 9),\n",
       " (0, 6),\n",
       " (7, 8),\n",
       " (6, 5),\n",
       " (7, 1),\n",
       " (7, 3),\n",
       " (3, 7),\n",
       " (0, 2),\n",
       " (2, 0),\n",
       " (6, 4),\n",
       " (5, 7),\n",
       " (9, 1),\n",
       " (0, 1),\n",
       " (4, 8)]"
      ]
     },
     "metadata": {},
     "execution_count": 75
    }
   ],
   "metadata": {}
  },
  {
   "cell_type": "markdown",
   "source": [
    "Pour choisir les positions des bombes aléatoirement on commence par générer toutes les positions possibles puis on choisit le nombre souhaité parmis ces positions avec `random.sample` qui permet de ne pas choisir 2 fois la même position."
   ],
   "metadata": {}
  },
  {
   "cell_type": "code",
   "execution_count": 76,
   "source": [
    "def putBomb(grille, nbBomb):\n",
    "    nbligne = len(grille)\n",
    "    nbcol = len(grille[0])\n",
    "    pos = genPos(nbligne, nbcol)\n",
    "    posBomb = random.sample(pos, nbBomb)\n",
    "    for bomb in posBomb:\n",
    "        grille[bomb[0]][bomb[1]] = \"B\"\n",
    "    return grille"
   ],
   "outputs": [],
   "metadata": {}
  },
  {
   "cell_type": "code",
   "execution_count": 77,
   "source": [
    "mg = magrille(10,10)\n",
    "mgB = putBomb(mg,21)\n",
    "printGrille(mgB)"
   ],
   "outputs": [
    {
     "output_type": "stream",
     "name": "stdout",
     "text": [
      "-  0  1  2  3  4  5  6  7  8  9 \n",
      "0 |0 |0 |0 |0 |0 |0 |0 |0 |0 |0 |\n",
      "1 |0 |B |0 |0 |0 |B |B |0 |0 |0 |\n",
      "2 |0 |0 |B |B |0 |B |0 |0 |0 |0 |\n",
      "3 |0 |0 |0 |0 |0 |0 |0 |0 |0 |0 |\n",
      "4 |0 |0 |0 |0 |0 |B |B |0 |0 |0 |\n",
      "5 |0 |0 |0 |0 |0 |0 |0 |B |B |B |\n",
      "6 |0 |0 |0 |0 |0 |0 |0 |0 |B |0 |\n",
      "7 |0 |0 |B |0 |0 |0 |B |0 |B |0 |\n",
      "8 |0 |0 |0 |0 |B |0 |0 |B |0 |B |\n",
      "9 |0 |0 |0 |0 |B |0 |B |0 |B |0 |\n"
     ]
    }
   ],
   "metadata": {}
  },
  {
   "cell_type": "markdown",
   "source": [
    "Envisager d'utiliser les classes?"
   ],
   "metadata": {}
  },
  {
   "cell_type": "code",
   "execution_count": 78,
   "source": [
    "def BombScore(grille):\n",
    "    n = 0 #Compteur de score\n",
    "    for i in grille:\n",
    "        print(i)\n",
    "    return i"
   ],
   "outputs": [],
   "metadata": {}
  },
  {
   "cell_type": "code",
   "execution_count": 79,
   "source": [
    "\n",
    "\n",
    "#Definition pour mettre des chiffres sur ce plateau\n",
    "\n",
    "#TODO: \n",
    "#FAIT - Réparer cette fonction -> Il compte des voisins qu'il n'a pas (empêcher les index négatifs)\n",
    "#- Faire l'UX (mettre dans une grille, cacher cette grille, et t'as capté)\n",
    "\n",
    "def GrilleScore(grille_bombee): #Entendre par là: la grille avec les bombes placées et rien de plus\n",
    "\n",
    "    for i in range(len(grille_bombee)):\n",
    "        for k in range(len(grille_bombee[i])): #Préciser de quelle liste on parle | Envisager le try ? -> Seule manière possible mais c'est PAS BEAU.\n",
    "            n = 0\n",
    "            if grille_bombee[i][k] == \"B\":\n",
    "                n = \"B\"     #Nbr de bombes voisins\n",
    "            else:\n",
    "                try:\n",
    "                    if grille_bombee[i - 1][k - 1] == \"B\" and i != 0 and k != 0: #En haut à gauche\n",
    "                        n += 1\n",
    "                except IndexError:\n",
    "                    pass\n",
    "                try:\n",
    "                    if grille_bombee[i][k - 1] == \"B\" and k != 0: #En haut au milieu\n",
    "                        n += 1\n",
    "                except IndexError:\n",
    "                    pass\n",
    "                try:\n",
    "                    if grille_bombee[i + 1][k - 1] == \"B\" and k != 0 and i != len(grille_bombee[i]): #En haut à droite\n",
    "                        n += 1\n",
    "                except IndexError:\n",
    "                    pass\n",
    "                try:\n",
    "                    if grille_bombee[i - 1][k] == \"B\" and i != 0: #Au milieu à gauche\n",
    "                        n += 1\n",
    "                except IndexError:\n",
    "                    pass\n",
    "                try:\n",
    "                    if grille_bombee[i + 1][k] == \"B\" and i != len(grille_bombee[i]) : #Au milieu à droite\n",
    "                        n += 1\n",
    "                except IndexError:\n",
    "                    pass\n",
    "                try:\n",
    "                    if grille_bombee[i - 1][k + 1] == \"B\" and i != 0 and k != len(grille_bombee[k]): #En bas à gauche\n",
    "                        n += 1\n",
    "                except IndexError:\n",
    "                    pass\n",
    "                try:\n",
    "                    if grille_bombee[i][k + 1] == \"B\" and k != len(grille_bombee[k]): #En bas au milieu\n",
    "                        n += 1\n",
    "                except IndexError:\n",
    "                    pass\n",
    "                try:\n",
    "                    if grille_bombee[i + 1][k + 1] == \"B\" and k != len(grille_bombee[k]) and i != len(grille_bombee[i]): #En bas à droite\n",
    "                        n += 1\n",
    "                except IndexError:\n",
    "                    pass\n",
    "            \n",
    "            grille_bombee[i][k] = n\n",
    "    return(grille_bombee)\n",
    "\n",
    "\n",
    "\n",
    "\n",
    "#           n = 0\n",
    "#           grille_full = grille_bombée\n",
    "#           if i == \"B\":\n",
    "            \n",
    "GrilleScore(mg)"
   ],
   "outputs": [
    {
     "output_type": "execute_result",
     "data": {
      "text/plain": [
       "[[1, 1, 1, 0, 1, 2, 2, 1, 0, 0],\n",
       " [1, 'B', 3, 2, 3, 'B', 'B', 1, 0, 0],\n",
       " [1, 2, 'B', 'B', 3, 'B', 3, 1, 0, 0],\n",
       " [0, 1, 2, 2, 3, 3, 3, 1, 0, 0],\n",
       " [0, 0, 0, 0, 1, 'B', 'B', 3, 3, 2],\n",
       " [0, 0, 0, 0, 1, 2, 3, 'B', 'B', 'B'],\n",
       " [0, 1, 1, 1, 0, 1, 2, 5, 'B', 4],\n",
       " [0, 1, 'B', 2, 1, 2, 'B', 4, 'B', 3],\n",
       " [0, 1, 1, 3, 'B', 4, 3, 'B', 4, 'B'],\n",
       " [0, 0, 0, 2, 'B', 3, 'B', 3, 'B', 2]]"
      ]
     },
     "metadata": {},
     "execution_count": 79
    }
   ],
   "metadata": {}
  },
  {
   "cell_type": "code",
   "execution_count": 80,
   "source": [
    "printGrille(GrilleScore(mg)) #Ca marche, et ça c'est beau"
   ],
   "outputs": [
    {
     "output_type": "stream",
     "name": "stdout",
     "text": [
      "-  0  1  2  3  4  5  6  7  8  9 \n",
      "0 |1 |1 |1 |0 |1 |2 |2 |1 |0 |0 |\n",
      "1 |1 |B |3 |2 |3 |B |B |1 |0 |0 |\n",
      "2 |1 |2 |B |B |3 |B |3 |1 |0 |0 |\n",
      "3 |0 |1 |2 |2 |3 |3 |3 |1 |0 |0 |\n",
      "4 |0 |0 |0 |0 |1 |B |B |3 |3 |2 |\n",
      "5 |0 |0 |0 |0 |1 |2 |3 |B |B |B |\n",
      "6 |0 |1 |1 |1 |0 |1 |2 |5 |B |4 |\n",
      "7 |0 |1 |B |2 |1 |2 |B |4 |B |3 |\n",
      "8 |0 |1 |1 |3 |B |4 |3 |B |4 |B |\n",
      "9 |0 |0 |0 |2 |B |3 |B |3 |B |2 |\n"
     ]
    }
   ],
   "metadata": {}
  },
  {
   "cell_type": "code",
   "execution_count": 81,
   "source": [
    "# Comment faire l'affichage de la grille côté user?\n",
    "# - Créer une liste \"liste_cachee\" qui se dévoilera au fur et à mesure (Caractère ascii □, remplacé par sa valeur\n",
    "# avec la position appelée par le joueur)\n",
    "# Gameplay: La grille s'affiche, et le joueur appelle chaque case, en espérant que ça soit pas une bombe"
   ],
   "outputs": [],
   "metadata": {}
  },
  {
   "cell_type": "code",
   "execution_count": 82,
   "source": [
    "def grille_cachee(liste_b): #Le but de cette matrice est d'être remplacé par la liste GrilleScore avec les appels du joueur\n",
    "    \"\"\"\n",
    "    Prends la grille bombée et numerotée, et retourne une grille cachée\n",
    "    \"\"\"\n",
    "    grille = []\n",
    "    for i in range(len(liste_b)): \n",
    "        grille.append(\"□\"*len(liste_b[0]))\n",
    "    return grille\n",
    "\n",
    "printGrille(grille_cachee(mg))"
   ],
   "outputs": [
    {
     "output_type": "stream",
     "name": "stdout",
     "text": [
      "-  0  1  2  3  4  5  6  7  8  9 \n",
      "0 |□ |□ |□ |□ |□ |□ |□ |□ |□ |□ |\n",
      "1 |□ |□ |□ |□ |□ |□ |□ |□ |□ |□ |\n",
      "2 |□ |□ |□ |□ |□ |□ |□ |□ |□ |□ |\n",
      "3 |□ |□ |□ |□ |□ |□ |□ |□ |□ |□ |\n",
      "4 |□ |□ |□ |□ |□ |□ |□ |□ |□ |□ |\n",
      "5 |□ |□ |□ |□ |□ |□ |□ |□ |□ |□ |\n",
      "6 |□ |□ |□ |□ |□ |□ |□ |□ |□ |□ |\n",
      "7 |□ |□ |□ |□ |□ |□ |□ |□ |□ |□ |\n",
      "8 |□ |□ |□ |□ |□ |□ |□ |□ |□ |□ |\n",
      "9 |□ |□ |□ |□ |□ |□ |□ |□ |□ |□ |\n"
     ]
    }
   ],
   "metadata": {}
  },
  {
   "cell_type": "code",
   "execution_count": 83,
   "source": [
    "def grille_cachee(liste_b): #Le but de cette matrice est d'être remplacé par la liste GrilleScore avec les appels du joueur\n",
    "    \"\"\"\n",
    "    Prends la grille bombée et numerotée, et retourne une grille cachée\n",
    "    \"\"\"\n",
    "    grille = []\n",
    "    for i in range(len(liste_b)): \n",
    "        grille.append(\"□\"*len(liste_b[0]))\n",
    "    return grille\n",
    "\n",
    "printGrille(grille_cachee(mg))"
   ]
  },
  {
   "cell_type": "code",
   "execution_count": 164,
   "metadata": {},
   "outputs": [],
   "source": [
    "def user_inter(): # Interaction user\n",
    "    \"\"\"\n",
    "    Demande les variables lignes colonnes et action au user pour savoir ce qu'il veut faire et retourne l_user, c_user et action tq. l_user = ligne choisie, c_user = colonne choisie et action = action choisie\n",
    "    action possible: marcher, drapeau, ?\n",
    "    \"\"\"\n",
    "    flag_nbr = False \n",
    "    flag_action = False\n",
    "\n",
    "    while flag_nbr == False and flag_action == False: #Testeurs pour savoir si les variables sont légales ou pas\n",
    "        try:    \n",
    "                l_user, c_user, action = input(\"Que voulez-vous faire? (ligne colonne action)\").split(\" \")\n",
    "        except ValueError:\n",
    "            print(\"Erreur: Nombre de paramètres faux\")  \n",
    "\n",
    "        try: #Verif de nombres l et c légal -> CASSé -> utiliser .isdigit\n",
    "            if l_user == str(int(l_user)) and c_user == str(int(c_user)): #TODO: Ajouter le test pour savoir si ces valeurs existent\n",
    "                l_user = int(l_user) #TODO: Relancer\n",
    "                c_user = int(c_user)\n",
    "                flag_nbr = True\n",
    "        except:\n",
    "            print(\"Erreur: Nombres impossibles\")\n",
    "        \n",
    "        try: #Verif action légal\n",
    "            if action == \"marcher\":\n",
    "                flag_action = True\n",
    "            elif action == \"drapeau\":\n",
    "                flag_action = True\n",
    "            elif action == \"?\":\n",
    "                flag_action = True\n",
    "        except:\n",
    "            print(\"Erreur: Action impossible\")\n",
    "            \n",
    "    \n",
    "    return l_user, c_user, action"
   ]
  },
  {
   "cell_type": "code",
   "execution_count": 165,
   "metadata": {},
   "outputs": [
    {
     "name": "stdout",
     "output_type": "stream",
     "text": [
      "Erreur: Nombres impossibles\n"
     ]
    },
    {
     "data": {
      "text/plain": [
       "('2.4', '4', 'marcher')"
      ]
     },
     "execution_count": 165,
     "metadata": {},
     "output_type": "execute_result"
    }
   ],
   "source": [
    "user_inter()"
   ]
  },
  {
   "cell_type": "code",
   "execution_count": 169,
   "metadata": {},
   "outputs": [
    {
     "ename": "ValueError",
     "evalue": "too many values to unpack (expected 3)",
     "output_type": "error",
     "traceback": [
      "\u001b[0;31m---------------------------------------------------------------------------\u001b[0m",
      "\u001b[0;31mValueError\u001b[0m                                Traceback (most recent call last)",
      "\u001b[0;32m<ipython-input-169-c4c8db36fa64>\u001b[0m in \u001b[0;36m<module>\u001b[0;34m\u001b[0m\n\u001b[0;32m----> 1\u001b[0;31m \u001b[0ml_user\u001b[0m\u001b[0;34m,\u001b[0m \u001b[0mc_user\u001b[0m\u001b[0;34m,\u001b[0m \u001b[0maction\u001b[0m \u001b[0;34m=\u001b[0m \u001b[0minput\u001b[0m\u001b[0;34m(\u001b[0m\u001b[0;34m\"Que voulez-vous faire? (ligne colonne action)\"\u001b[0m\u001b[0;34m)\u001b[0m\u001b[0;34m.\u001b[0m\u001b[0msplit\u001b[0m\u001b[0;34m(\u001b[0m\u001b[0;34m\" \"\u001b[0m\u001b[0;34m)\u001b[0m\u001b[0;34m\u001b[0m\u001b[0;34m\u001b[0m\u001b[0m\n\u001b[0m",
      "\u001b[0;31mValueError\u001b[0m: too many values to unpack (expected 3)"
     ]
    }
   ],
   "source": [
    "l_user, c_user, action = input(\"Que voulez-vous faire? (ligne colonne action)\").split(\" \")"
   ]
  },
  {
   "cell_type": "code",
   "execution_count": 167,
   "metadata": {},
   "outputs": [
    {
     "data": {
      "text/plain": [
       "'3'"
      ]
     },
     "execution_count": 167,
     "metadata": {},
     "output_type": "execute_result"
    }
   ],
   "source": [
    "l_user"
   ]
  },
  {
   "cell_type": "code",
   "execution_count": 191,
   "metadata": {},
   "outputs": [],
   "source": [
    "nb = \"45.5\""
   ]
  },
  {
   "cell_type": "code",
   "execution_count": 192,
   "metadata": {},
   "outputs": [
    {
     "data": {
      "text/plain": [
       "False"
      ]
     },
     "execution_count": 192,
     "metadata": {},
     "output_type": "execute_result"
    }
   ],
   "source": [
    "nb.isnumeric()"
   ]
  },
  {
   "cell_type": "code",
   "execution_count": null,
   "metadata": {},
   "outputs": [],
   "source": []
  }
 ],
 "metadata": {
  "kernelspec": {
   "name": "python3",
   "display_name": "Python 3.8.3 64-bit ('base': conda)"
  },
  "language_info": {
   "codemirror_mode": {
    "name": "ipython",
    "version": 3
   },
   "file_extension": ".py",
   "mimetype": "text/x-python",
   "name": "python",
   "nbconvert_exporter": "python",
   "pygments_lexer": "ipython3",
   "version": "3.8.3"
  },
  "latex_envs": {
   "LaTeX_envs_menu_present": true,
   "autoclose": false,
   "autocomplete": true,
   "bibliofile": "biblio.bib",
   "cite_by": "apalike",
   "current_citInitial": 1,
   "eqLabelWithNumbers": true,
   "eqNumInitial": 1,
   "hotkeys": {
    "equation": "Ctrl-E",
    "itemize": "Ctrl-I"
   },
   "labels_anchors": false,
   "latex_user_defs": false,
   "report_style_numbering": false,
   "user_envs_cfg": false
  },
  "toc": {
   "base_numbering": 1,
   "nav_menu": {},
   "number_sections": true,
   "sideBar": true,
   "skip_h1_title": false,
   "title_cell": "Table of Contents",
   "title_sidebar": "Contents",
   "toc_cell": false,
   "toc_position": {},
   "toc_section_display": true,
   "toc_window_display": false
  },
  "interpreter": {
   "hash": "dca0ade3e726a953b501b15e8e990130d2b7799f14cfd9f4271676035ebe5511"
  }
 },
 "nbformat": 4,
 "nbformat_minor": 4
}