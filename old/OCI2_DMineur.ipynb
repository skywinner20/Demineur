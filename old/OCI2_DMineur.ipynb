{
 "cells": [
  {
   "cell_type": "markdown",
   "metadata": {},
   "source": [
    "# Journal de bord du projet\n",
    "\n",
    "Voici le fichier qui va servir de journal de bord et de fichier de prototypage\n",
    "\n",
    "## Création de la grille\n",
    "\n",
    "On va utiliser des liste imbriquées avec les valeurs suivantes pour représenter les différents cas"
   ]
  },
  {
   "cell_type": "markdown",
   "metadata": {},
   "source": [
    "Ci-dessous la liste des import nécessaires"
   ]
  },
  {
   "cell_type": "code",
   "execution_count": 3,
   "metadata": {},
   "outputs": [],
   "source": [
    "import random\n",
    "import math"
   ]
  },
  {
   "cell_type": "code",
   "execution_count": 4,
   "metadata": {},
   "outputs": [],
   "source": [
    "def magrille(l,c):\n",
    "    grille = []\n",
    "    for i in range(l):\n",
    "        grille.append([0]*c)\n",
    "    return grille"
   ]
  },
  {
   "cell_type": "code",
   "execution_count": 5,
   "metadata": {},
   "outputs": [],
   "source": [
    "mg = magrille(5,5)"
   ]
  },
  {
   "cell_type": "code",
   "execution_count": 6,
   "metadata": {},
   "outputs": [
    {
     "data": {
      "text/plain": [
       "[0, 0, 0, 0, 0]"
      ]
     },
     "execution_count": 6,
     "metadata": {},
     "output_type": "execute_result"
    }
   ],
   "source": [
    "mg[0]"
   ]
  },
  {
   "cell_type": "markdown",
   "metadata": {},
   "source": [
    "## Fonction d'affichage de la grille"
   ]
  },
  {
   "cell_type": "code",
   "execution_count": 7,
   "metadata": {},
   "outputs": [],
   "source": [
    "def printGrille(magrille):\n",
    "    nbligne = len(magrille)\n",
    "    nbcol = len(magrille[0])\n",
    "    affichage_col = \"- \"\n",
    "    for i in range(nbcol):\n",
    "        affichage_col += \" {0} \".format(i)\n",
    "    print(affichage_col)\n",
    "    for i in range(nbligne):\n",
    "        lignetexte = \"|\"\n",
    "        for j in range(nbcol):\n",
    "            lignetexte += \"{0} |\".format(magrille[i][j])\n",
    "        print(\"{0} {1}\".format(i, lignetexte))"
   ]
  },
  {
   "cell_type": "code",
   "execution_count": 8,
   "metadata": {},
   "outputs": [
    {
     "name": "stdout",
     "output_type": "stream",
     "text": [
      "-  0  1  2  3  4 \n",
      "0 |0 |0 |0 |0 |0 |\n",
      "1 |0 |0 |0 |0 |0 |\n",
      "2 |0 |0 |0 |0 |0 |\n",
      "3 |0 |0 |0 |0 |0 |\n",
      "4 |0 |0 |0 |0 |0 |\n"
     ]
    }
   ],
   "source": [
    "printGrille(mg)"
   ]
  },
  {
   "cell_type": "markdown",
   "metadata": {},
   "source": [
    "## Placement des bombes\n",
    "\n",
    "On veut choisir n élément parmis les positions"
   ]
  },
  {
   "cell_type": "code",
   "execution_count": 9,
   "metadata": {},
   "outputs": [],
   "source": [
    "def genPos(l,c):\n",
    "    pos = []\n",
    "    for i in range(l):\n",
    "        for j in range(c):\n",
    "            pos.append((i,j))\n",
    "    return pos"
   ]
  },
  {
   "cell_type": "code",
   "execution_count": 10,
   "metadata": {},
   "outputs": [
    {
     "data": {
      "text/plain": [
       "[(4, 3),\n",
       " (6, 9),\n",
       " (6, 8),\n",
       " (3, 7),\n",
       " (5, 5),\n",
       " (4, 6),\n",
       " (6, 4),\n",
       " (3, 6),\n",
       " (2, 6),\n",
       " (9, 3),\n",
       " (5, 8),\n",
       " (0, 4),\n",
       " (6, 0),\n",
       " (6, 6),\n",
       " (3, 8),\n",
       " (5, 0),\n",
       " (5, 4),\n",
       " (2, 7),\n",
       " (3, 9),\n",
       " (5, 3)]"
      ]
     },
     "execution_count": 10,
     "metadata": {},
     "output_type": "execute_result"
    }
   ],
   "source": [
    "import random\n",
    "pos = genPos(10,10)\n",
    "random.sample(pos, 20)"
   ]
  },
  {
   "cell_type": "markdown",
   "metadata": {},
   "source": [
    "Pour choisir les positions des bombes aléatoirement on commence par générer toutes les positions possibles puis on choisit le nombre souhaité parmis ces positions avec `random.sample` qui permet de ne pas choisir 2 fois la même position."
   ]
  },
  {
   "cell_type": "code",
   "execution_count": 11,
   "metadata": {},
   "outputs": [],
   "source": [
    "def putBomb(grille, nbBomb):\n",
    "    \"\"\"\n",
    "    Prends la liste représentant la grille et le nb de bombes, et les places aléatoirement dans la grille\n",
    "    \"\"\"\n",
    "    nbligne = len(grille)\n",
    "    nbcol = len(grille[0])\n",
    "    pos = genPos(nbligne, nbcol)\n",
    "    posBomb = random.sample(pos, nbBomb)\n",
    "    for bomb in posBomb:\n",
    "        grille[bomb[0]][bomb[1]] = \"B\"\n",
    "    return grille"
   ]
  },
  {
   "cell_type": "code",
   "execution_count": 12,
   "metadata": {},
   "outputs": [
    {
     "name": "stdout",
     "output_type": "stream",
     "text": [
      "-  0  1  2  3  4  5  6  7  8  9 \n",
      "0 |B |B |0 |0 |0 |0 |0 |0 |B |0 |\n",
      "1 |0 |0 |B |0 |0 |0 |B |0 |0 |B |\n",
      "2 |0 |B |0 |0 |B |B |0 |0 |0 |0 |\n",
      "3 |B |0 |0 |0 |0 |B |0 |0 |0 |0 |\n",
      "4 |0 |0 |B |0 |0 |0 |0 |0 |0 |0 |\n",
      "5 |0 |0 |0 |B |0 |0 |0 |0 |0 |0 |\n",
      "6 |0 |0 |0 |0 |0 |B |B |0 |0 |0 |\n",
      "7 |0 |0 |0 |0 |0 |0 |B |0 |0 |0 |\n",
      "8 |0 |0 |0 |B |0 |0 |0 |0 |0 |0 |\n",
      "9 |B |B |0 |0 |B |B |0 |0 |0 |0 |\n"
     ]
    }
   ],
   "source": [
    "mg = magrille(10,10)\n",
    "mgB = putBomb(mg,21)\n",
    "printGrille(mgB)"
   ]
  },
  {
   "cell_type": "markdown",
   "metadata": {},
   "source": [
    "Envisager d'utiliser les classes?"
   ]
  },
  {
   "cell_type": "code",
   "execution_count": 13,
   "metadata": {},
   "outputs": [],
   "source": [
    "def BombScore(grille):\n",
    "    n = 0 #Compteur de score\n",
    "    for i in grille:\n",
    "        print(i)\n",
    "    return i"
   ]
  },
  {
   "cell_type": "code",
   "execution_count": 14,
   "metadata": {},
   "outputs": [
    {
     "data": {
      "text/plain": [
       "[['B', 'B', 2, 1, 0, 1, 1, 2, 'B', 2],\n",
       " [3, 4, 'B', 2, 2, 3, 'B', 2, 2, 'B'],\n",
       " [2, 'B', 2, 2, 'B', 'B', 3, 1, 1, 1],\n",
       " ['B', 3, 2, 2, 3, 'B', 2, 0, 0, 0],\n",
       " [1, 2, 'B', 2, 2, 1, 1, 0, 0, 0],\n",
       " [0, 1, 2, 'B', 2, 2, 2, 1, 0, 0],\n",
       " [0, 0, 1, 1, 2, 'B', 'B', 2, 0, 0],\n",
       " [0, 0, 1, 1, 2, 3, 'B', 2, 0, 0],\n",
       " [2, 2, 2, 'B', 3, 3, 2, 1, 0, 0],\n",
       " ['B', 'B', 2, 2, 'B', 'B', 1, 0, 0, 0]]"
      ]
     },
     "execution_count": 14,
     "metadata": {},
     "output_type": "execute_result"
    }
   ],
   "source": [
    "\n",
    "\n",
    "#Definition pour mettre des chiffres sur ce plateau\n",
    "\n",
    "#TODO: \n",
    "#FAIT - Réparer cette fonction -> Il compte des voisins qu'il n'a pas (empêcher les index négatifs)\n",
    "#FAIT - Faire l'UX (mettre dans une grille, cacher cette grille, et t'as capté)\n",
    "\n",
    "def GrilleScore(grille_bombee): #Entendre par là: la grille avec les bombes placées et rien de plus\n",
    "    \"\"\"\n",
    "    Prends la grille bombée et mets les numéros en testant chaque case avec ses 8 voisins\n",
    "    \"\"\"\n",
    "\n",
    "    for i in range(len(grille_bombee)):\n",
    "        for k in range(len(grille_bombee[i])): #Préciser de quelle liste on parle | Envisager le try ? -> Seule manière possible mais c'est PAS BEAU.\n",
    "            n = 0\n",
    "            if grille_bombee[i][k] == \"B\":\n",
    "                n = \"B\"     #Nbr de bombes voisins\n",
    "            else:\n",
    "                try:\n",
    "                    if grille_bombee[i - 1][k - 1] == \"B\" and i != 0 and k != 0: #En haut à gauche\n",
    "                        n += 1\n",
    "                except IndexError:\n",
    "                    pass\n",
    "                try:\n",
    "                    if grille_bombee[i][k - 1] == \"B\" and k != 0: #En haut au milieu\n",
    "                        n += 1\n",
    "                except IndexError:\n",
    "                    pass\n",
    "                try:\n",
    "                    if grille_bombee[i + 1][k - 1] == \"B\" and k != 0 and i != len(grille_bombee[i]): #En haut à droite\n",
    "                        n += 1\n",
    "                except IndexError:\n",
    "                    pass\n",
    "                try:\n",
    "                    if grille_bombee[i - 1][k] == \"B\" and i != 0: #Au milieu à gauche\n",
    "                        n += 1\n",
    "                except IndexError:\n",
    "                    pass\n",
    "                try:\n",
    "                    if grille_bombee[i + 1][k] == \"B\" and i != len(grille_bombee[i]) : #Au milieu à droite\n",
    "                        n += 1\n",
    "                except IndexError:\n",
    "                    pass\n",
    "                try:\n",
    "                    if grille_bombee[i - 1][k + 1] == \"B\" and i != 0 and k != len(grille_bombee[k]): #En bas à gauche\n",
    "                        n += 1\n",
    "                except IndexError:\n",
    "                    pass\n",
    "                try:\n",
    "                    if grille_bombee[i][k + 1] == \"B\" and k != len(grille_bombee[k]): #En bas au milieu\n",
    "                        n += 1\n",
    "                except IndexError:\n",
    "                    pass\n",
    "                try:\n",
    "                    if grille_bombee[i + 1][k + 1] == \"B\" and k != len(grille_bombee[k]) and i != len(grille_bombee[i]): #En bas à droite\n",
    "                        n += 1\n",
    "                except IndexError:\n",
    "                    pass\n",
    "            \n",
    "            grille_bombee[i][k] = n\n",
    "    return(grille_bombee)\n",
    "\n",
    "\n",
    "\n",
    "\n",
    "#           n = 0\n",
    "#           grille_full = grille_bombée\n",
    "#           if i == \"B\":\n",
    "            \n",
    "GrilleScore(mg)"
   ]
  },
  {
   "cell_type": "code",
   "execution_count": 15,
   "metadata": {},
   "outputs": [
    {
     "name": "stdout",
     "output_type": "stream",
     "text": [
      "-  0  1  2  3  4  5  6  7  8  9 \n",
      "0 |B |B |2 |1 |0 |1 |1 |2 |B |2 |\n",
      "1 |3 |4 |B |2 |2 |3 |B |2 |2 |B |\n",
      "2 |2 |B |2 |2 |B |B |3 |1 |1 |1 |\n",
      "3 |B |3 |2 |2 |3 |B |2 |0 |0 |0 |\n",
      "4 |1 |2 |B |2 |2 |1 |1 |0 |0 |0 |\n",
      "5 |0 |1 |2 |B |2 |2 |2 |1 |0 |0 |\n",
      "6 |0 |0 |1 |1 |2 |B |B |2 |0 |0 |\n",
      "7 |0 |0 |1 |1 |2 |3 |B |2 |0 |0 |\n",
      "8 |2 |2 |2 |B |3 |3 |2 |1 |0 |0 |\n",
      "9 |B |B |2 |2 |B |B |1 |0 |0 |0 |\n"
     ]
    }
   ],
   "source": [
    "printGrille(GrilleScore(mg)) #Ca marche, et ça c'est beau"
   ]
  },
  {
   "cell_type": "code",
   "execution_count": 16,
   "metadata": {},
   "outputs": [],
   "source": [
    "# Comment faire l'affichage de la grille côté user?\n",
    "# - Créer une liste \"liste_cachee\" qui se dévoilera au fur et à mesure (Caractère ascii □, remplacé par sa valeur\n",
    "# avec la position appelée par le joueur)\n",
    "# Gameplay: La grille s'affiche, et le joueur appelle chaque case, en espérant que ça soit pas une bombe"
   ]
  },
  {
   "cell_type": "code",
   "execution_count": 17,
   "metadata": {},
   "outputs": [
    {
     "name": "stdout",
     "output_type": "stream",
     "text": [
      "-  0  1  2  3  4  5  6  7  8  9 \n",
      "0 |□ |□ |□ |□ |□ |□ |□ |□ |□ |□ |\n",
      "1 |□ |□ |□ |□ |□ |□ |□ |□ |□ |□ |\n",
      "2 |□ |□ |□ |□ |□ |□ |□ |□ |□ |□ |\n",
      "3 |□ |□ |□ |□ |□ |□ |□ |□ |□ |□ |\n",
      "4 |□ |□ |□ |□ |□ |□ |□ |□ |□ |□ |\n",
      "5 |□ |□ |□ |□ |□ |□ |□ |□ |□ |□ |\n",
      "6 |□ |□ |□ |□ |□ |□ |□ |□ |□ |□ |\n",
      "7 |□ |□ |□ |□ |□ |□ |□ |□ |□ |□ |\n",
      "8 |□ |□ |□ |□ |□ |□ |□ |□ |□ |□ |\n",
      "9 |□ |□ |□ |□ |□ |□ |□ |□ |□ |□ |\n"
     ]
    }
   ],
   "source": [
    "def grille_cachee(liste_b): #Le but de cette matrice est d'être remplacé par la liste GrilleScore avec les appels du joueur\n",
    "    \"\"\"\n",
    "    Prends la grille bombée et numerotée, et retourne une grille cachée\n",
    "    \"\"\"\n",
    "    grille = []\n",
    "    for i in range(len(liste_b)): \n",
    "        grille.append(\"□\"*len(liste_b[0]))\n",
    "    return grille\n",
    "\n",
    "printGrille(grille_cachee(mg))"
   ]
  },
  {
   "cell_type": "code",
   "execution_count": 18,
   "metadata": {},
   "outputs": [
    {
     "name": "stdout",
     "output_type": "stream",
     "text": [
      "-  0  1  2  3  4  5  6  7  8  9 \n",
      "0 |□ |□ |□ |□ |□ |□ |□ |□ |□ |□ |\n",
      "1 |□ |□ |□ |□ |□ |□ |□ |□ |□ |□ |\n",
      "2 |□ |□ |□ |□ |□ |□ |□ |□ |□ |□ |\n",
      "3 |□ |□ |□ |□ |□ |□ |□ |□ |□ |□ |\n",
      "4 |□ |□ |□ |□ |□ |□ |□ |□ |□ |□ |\n",
      "5 |□ |□ |□ |□ |□ |□ |□ |□ |□ |□ |\n",
      "6 |□ |□ |□ |□ |□ |□ |□ |□ |□ |□ |\n",
      "7 |□ |□ |□ |□ |□ |□ |□ |□ |□ |□ |\n",
      "8 |□ |□ |□ |□ |□ |□ |□ |□ |□ |□ |\n",
      "9 |□ |□ |□ |□ |□ |□ |□ |□ |□ |□ |\n"
     ]
    }
   ],
   "source": [
    "def grille_cachee(liste_b): #Le but de cette matrice est d'être remplacé par la liste GrilleScore avec les appels du joueur\n",
    "    \"\"\"\n",
    "    Prends la grille bombée et numerotée, et retourne une grille cachée\n",
    "    \"\"\"\n",
    "    grille = []\n",
    "    for i in range(len(liste_b)): \n",
    "        grille.append(\"□\"*len(liste_b[0]))\n",
    "    return grille\n",
    "\n",
    "printGrille(grille_cachee(mg))"
   ]
  },
  {
   "cell_type": "code",
   "execution_count": 19,
   "metadata": {},
   "outputs": [
    {
     "name": "stdout",
     "output_type": "stream",
     "text": [
      "Erreur: Nombre de paramètres faux\n"
     ]
    },
    {
     "ename": "UnboundLocalError",
     "evalue": "local variable 'l_user' referenced before assignment",
     "output_type": "error",
     "traceback": [
      "\u001b[0;31m---------------------------------------------------------------------------\u001b[0m",
      "\u001b[0;31mUnboundLocalError\u001b[0m                         Traceback (most recent call last)",
      "\u001b[0;32m/tmp/ipykernel_4568/2871336237.py\u001b[0m in \u001b[0;36m<module>\u001b[0;34m\u001b[0m\n\u001b[1;32m     45\u001b[0m     \u001b[0;32mreturn\u001b[0m \u001b[0ml_user\u001b[0m\u001b[0;34m,\u001b[0m \u001b[0mc_user\u001b[0m\u001b[0;34m,\u001b[0m \u001b[0maction\u001b[0m\u001b[0;34m\u001b[0m\u001b[0;34m\u001b[0m\u001b[0m\n\u001b[1;32m     46\u001b[0m \u001b[0;34m\u001b[0m\u001b[0m\n\u001b[0;32m---> 47\u001b[0;31m \u001b[0muser_inter\u001b[0m\u001b[0;34m(\u001b[0m\u001b[0mGrilleScore\u001b[0m\u001b[0;34m(\u001b[0m\u001b[0mmg\u001b[0m\u001b[0;34m)\u001b[0m\u001b[0;34m)\u001b[0m\u001b[0;34m\u001b[0m\u001b[0;34m\u001b[0m\u001b[0m\n\u001b[0m",
      "\u001b[0;32m/tmp/ipykernel_4568/2871336237.py\u001b[0m in \u001b[0;36muser_inter\u001b[0;34m(liste_grille)\u001b[0m\n\u001b[1;32m     15\u001b[0m \u001b[0;34m\u001b[0m\u001b[0m\n\u001b[1;32m     16\u001b[0m         \u001b[0;32mtry\u001b[0m\u001b[0;34m:\u001b[0m \u001b[0;31m#Bien des valeurs\u001b[0m\u001b[0;34m\u001b[0m\u001b[0;34m\u001b[0m\u001b[0m\n\u001b[0;32m---> 17\u001b[0;31m             \u001b[0ml_user\u001b[0m \u001b[0;34m=\u001b[0m \u001b[0mint\u001b[0m\u001b[0;34m(\u001b[0m\u001b[0ml_user\u001b[0m\u001b[0;34m)\u001b[0m\u001b[0;34m\u001b[0m\u001b[0;34m\u001b[0m\u001b[0m\n\u001b[0m\u001b[1;32m     18\u001b[0m             \u001b[0mc_user\u001b[0m \u001b[0;34m=\u001b[0m \u001b[0mint\u001b[0m\u001b[0;34m(\u001b[0m\u001b[0mc_user\u001b[0m\u001b[0;34m)\u001b[0m\u001b[0;34m\u001b[0m\u001b[0;34m\u001b[0m\u001b[0m\n\u001b[1;32m     19\u001b[0m             \u001b[0mflag_nbr_mem\u001b[0m \u001b[0;34m=\u001b[0m \u001b[0;32mTrue\u001b[0m\u001b[0;34m\u001b[0m\u001b[0;34m\u001b[0m\u001b[0m\n",
      "\u001b[0;31mUnboundLocalError\u001b[0m: local variable 'l_user' referenced before assignment"
     ]
    }
   ],
   "source": [
    "def user_inter(liste_grille): # Interaction user\n",
    "    \"\"\"\n",
    "    Prends la liste de la grille, demande les variables lignes colonnes action au user pour savoir ce qu'il veut faire et retourne l_user, c_user et action tq. l_user = ligne choisie, c_user = colonne choisie et action = action choisie\n",
    "    action possible: marcher, drapeau, ?\n",
    "    \"\"\"\n",
    "    flag_nbr = False #Flag pour les nombres\n",
    "    flag_action = False #Flag pour l'action\n",
    "    flag_nbr_mem = False #Flag de mémoire pour les nombres\n",
    "\n",
    "    while flag_nbr == False or flag_action == False: #Testeurs pour savoir si les variables sont légales ou pas\n",
    "        try:    \n",
    "            l_user, c_user, action = input(\"Que voulez-vous faire? (ligne colonne action)\").split(\" \")\n",
    "        except ValueError:\n",
    "            print(\"Erreur: Nombre de paramètres faux\") \n",
    "\n",
    "        try: #Bien des valeurs\n",
    "            l_user = int(l_user)\n",
    "            c_user = int(c_user)\n",
    "            flag_nbr_mem = True\n",
    "        except ValueError:\n",
    "            print(\"Erreur: Nombre(s) incorrecte(s)\")\n",
    "\n",
    "        #if l_user.isdigit == True and c_user.isdigit == True: #Verif de nombres l et c légal\n",
    "        if flag_nbr_mem == True:\n",
    "            if 0 <= l_user <= len(liste_grille) and 0 <= c_user <= len(liste_grille[0]): #Si les valeurs existent\n",
    "                l_user = int(l_user)\n",
    "                c_user = int(c_user)\n",
    "                flag_nbr = True\n",
    "            else:\n",
    "                print(\"Erreur: Nombres impossibles, ils ne sont pas dans la grille\")\n",
    "        \n",
    "        try: #Verif action légal\n",
    "            if action == \"marcher\":\n",
    "                flag_action = True\n",
    "            elif action == \"drapeau\":\n",
    "                flag_action = True\n",
    "            elif action == \"?\":\n",
    "                flag_action = True\n",
    "            else:\n",
    "                print(\"Erreur: Action incorrecte\")\n",
    "        except ValueError:\n",
    "            print(\"Erreur: Action incorrecte\")\n",
    "            \n",
    "    \n",
    "    return l_user, c_user, action\n",
    "\n",
    "user_inter(GrilleScore(mg))"
   ]
  },
  {
   "cell_type": "code",
   "execution_count": null,
   "metadata": {},
   "outputs": [],
   "source": [
    "i = 0\n",
    "flag = False\n",
    "\n",
    "while flag == False:\n",
    "    print(i)\n",
    "    i = i+1\n",
    "    if i > 10:\n",
    "        flag = True"
   ]
  },
  {
   "cell_type": "code",
   "execution_count": null,
   "metadata": {},
   "outputs": [],
   "source": [
    "k = -1\n",
    "if k + 1 == 0:\n",
    "    print(\"test\")"
   ]
  },
  {
   "cell_type": "code",
   "execution_count": null,
   "metadata": {},
   "outputs": [],
   "source": [
    "k = [1,2,3]\n",
    "if k == True:\n",
    "    print(\"test\")"
   ]
  },
  {
   "cell_type": "code",
   "execution_count": null,
   "metadata": {},
   "outputs": [],
   "source": [
    "def GameOver(): #TODO : le gameover -> fait directement sur le .py\n",
    "    \"\"\"\n",
    "    T'as perdu. Gros nullos.\n",
    "    \"\"\"\n",
    "    print(\"olala la defaite du joueur francais\")"
   ]
  },
  {
   "cell_type": "code",
   "execution_count": null,
   "metadata": {},
   "outputs": [],
   "source": [
    "def gameplay(l_user, c_user, action, grille, grillescore): #Là ou va se jouer le GAMING (interaction userinput et grille)\n",
    "    \"\"\"\n",
    "    Prends les valeurs l_user, c_user, action, grille que modifie le joueur, la grille scorée, et retourne la grille modifiée en circonstance et n\n",
    "\n",
    "    n = False si problème avec case (déjà ouverte ou protégée)\n",
    "    n = True si drapeau sur bombe\n",
    "    \"\"\"\n",
    "    n = False\n",
    "\n",
    "    if action == \"marcher\":\n",
    "\n",
    "        if grille[l_user][c_user] != \"□\" or grille[l_user][c_user] == \"F\" or grille[l_user][c_user] == \"?\": #Case innouvrable\n",
    "            n = False\n",
    "\n",
    "        elif grillescore[l_user][c_user] == \"B\": # Bombe\n",
    "            GameOver()\n",
    "\n",
    "        elif grillescore[l_user][c_user] == 0: # Zéro\n",
    "\n",
    "            grille[l_user][c_user] = grillescore[l_user][c_user] #Remplacer la case\n",
    "            #Maintenant, il faut montrer les 8 voisins\n",
    "\n",
    "            if l_user - 1 >= 0 and c_user - 1 >= 0: #En haut à gauche\n",
    "                grille[l_user - 1][c_user - 1] = grillescore[l_user - 1][c_user - 1]\n",
    "\n",
    "            if l_user - 1 >= 0: #En haut au milieu\n",
    "                grille[l_user - 1][c_user] = grillescore[l_user - 1][c_user]\n",
    "\n",
    "            if l_user - 1 >= 0 and c_user + 1 <= len(grille[0]): #En haut à droite\n",
    "                grille[l_user - 1][c_user + 1] = grillescore[l_user - 1][c_user]\n",
    "\n",
    "            if c_user - 1 >= 0: #Au milieu à gauche\n",
    "                grille[l_user][c_user - 1] = grillescore[l_user][c_user - 1]\n",
    "            \n",
    "            if c_user + 1 <= len(grille[0]): #Au milieu à droite\n",
    "                grille[l_user][c_user + 1] = grillescore[l_user][c_user + 1]\n",
    "            \n",
    "            if l_user + 1 <= len(grille) and c_user - 1 <= len(grille[0]): #En bas à gauche\n",
    "                grille[l_user + 1][c_user - 1] = grillescore[l_user + 1][c_user - 1]\n",
    "            \n",
    "            if l_user + 1 <= len(grille): #En bas au milieu\n",
    "                grille[l_user + 1][c_user] = grillescore[l_user + 1][c_user]\n",
    "            \n",
    "            if l_user + 1 <= len(grille) and c_user + 1 <= len(grille[0]): #En bas à droite\n",
    "                grille[l_user + 1][c_user + 1] = grillescore[l_user + 1][c_user + 1]\n",
    "        \n",
    "        else: #le reste \n",
    "            grille[l_user][c_user] = grillescore[l_user][c_user]\n",
    "    \n",
    "    elif action == \"drapeau\":\n",
    "        if grillescore[l_user][c_user] == \"B\":\n",
    "            n = True\n",
    "        grille[l_user][c_user] = \"F\"\n",
    "    \n",
    "    elif action == \"?\":\n",
    "        grille[l_user][c_user] = \"?\"\n",
    "    \n",
    "    return grille, n"
   ]
  },
  {
   "cell_type": "code",
   "execution_count": null,
   "metadata": {},
   "outputs": [],
   "source": [
    "print(\"     ,--.!,\\n  __/   -*-\\n,d08b.  '|`\\n0088MM\\n`9MMP'   Démineur - Ardi et Cédric\")"
   ]
  },
  {
   "cell_type": "code",
   "execution_count": null,
   "metadata": {},
   "outputs": [],
   "source": [
    "a = \"Banane\"\n",
    "b = \"Saucisse\"\n",
    "a = b\n",
    "a\n",
    "\n",
    "def Saucisse():\n",
    "    a = \"Saucisse\"\n",
    "    b = \"Saucisse2\"\n",
    "    c = \"Saucisse3\"\n",
    "    return a, b, c\n",
    "\n",
    "a, b, c = Saucisse()\n",
    "print(a)\n",
    "print(b)\n",
    "print(c)\n",
    "\n",
    "liste_sauc = [a, b, c]\n",
    "print(liste_sauc)\n",
    "\n",
    "liste_sauc2 = [a + \"gaming\", b + \"gaming2\", c + \"gaming3\"]\n",
    "liste_sauc3 = [1, b + \"gaming2\", c + \"gaming3\"]\n",
    "\n",
    "liste_sauc[0] = liste_sauc3[0]\n",
    "\n",
    "print(liste_sauc[0])\n",
    "type(liste_sauc[0])"
   ]
  },
  {
   "cell_type": "code",
   "execution_count": null,
   "metadata": {},
   "outputs": [],
   "source": [
    "def gameplay(l_user, c_user, action, grilleJoueur, grillescore): #Là ou va se jouer le GAMING (interaction userinput et grille)\n",
    "    \"\"\"\n",
    "    Prends les valeurs l_user, c_user, action, grille que modifie le joueur, la grille scorée, et retourne la grille modifiée en circonstance, n si une bombe est touchée et\n",
    "    FBomb si un drapeau a été placé sur une bombe\n",
    "    \"\"\"\n",
    "    n = False\n",
    "    FBomb = False\n",
    "    l_user = int(l_user)\n",
    "    c_user = int(c_user)\n",
    "    grille = grilleJoueur.copy()\n",
    "\n",
    "    if action == \"marcher\":\n",
    "\n",
    "        if grille[l_user][c_user] != \"□\" or grille[l_user][c_user] == \"F\" or grille[l_user][c_user] == \"?\": #Case innouvrable\n",
    "            n = True\n",
    "\n",
    "        elif grillescore[l_user][c_user] == \"B\": # Bombe\n",
    "            GameOver()\n",
    "\n",
    "        elif grillescore[l_user][c_user] == 0: # Zéro\n",
    "\n",
    "            grille[l_user][c_user] = grillescore[l_user][c_user] #Remplacer la case\n",
    "            #Maintenant, il faut montrer les 8 voisins\n",
    "\n",
    "            if l_user - 1 >= 0 and c_user - 1 >= 0: #En haut à gauche\n",
    "                grille[l_user - 1][c_user - 1] = grillescore[l_user - 1][c_user - 1]\n",
    "\n",
    "            if l_user - 1 >= 0: #En haut au milieu\n",
    "                grille[l_user - 1][c_user] = grillescore[l_user - 1][c_user]\n",
    "\n",
    "            if l_user - 1 >= 0 and c_user + 1 <= len(grille[0]): #En haut à droite\n",
    "                grille[l_user - 1][c_user + 1] = grillescore[l_user - 1][c_user]\n",
    "\n",
    "            if c_user - 1 >= 0: #Au milieu à gauche\n",
    "                grille[l_user][c_user - 1] = grillescore[l_user][c_user - 1]\n",
    "            \n",
    "            if c_user + 1 <= len(grille[0]): #Au milieu à droite\n",
    "                grille[l_user][c_user + 1] = grillescore[l_user][c_user + 1]\n",
    "            \n",
    "            if l_user + 1 <= len(grille) and c_user - 1 <= len(grille[0]): #En bas à gauche\n",
    "                grille[l_user + 1][c_user - 1] = grillescore[l_user + 1][c_user - 1]\n",
    "            \n",
    "            if l_user + 1 <= len(grille): #En bas au milieu\n",
    "                grille[l_user + 1][c_user] = grillescore[l_user + 1][c_user]\n",
    "            \n",
    "            if l_user + 1 <= len(grille) and c_user + 1 <= len(grille[0]): #En bas à droite\n",
    "                grille[l_user + 1][c_user + 1] = grillescore[l_user + 1][c_user + 1]\n",
    "        \n",
    "        else: #le reste \n",
    "            grille[l_user][c_user] = int(grillescore[l_user][c_user])\n",
    "    \n",
    "    elif action == \"drapeau\":\n",
    "        if grillescore[l_user][c_user] == \"B\":\n",
    "            FBomb = True\n",
    "        grille[l_user][c_user] = \"F\"\n",
    "    \n",
    "    elif action == \"?\":\n",
    "        grille[l_user][c_user] = \"?\"\n",
    "    \n",
    "    return grille, n, FBomb\n",
    "\n",
    "a, b, c = gameplay(2, 2, \"marcher\", grille_cachee(mg), GrilleScore(mg))\n",
    "print(a, b, c)"
   ]
  },
  {
   "cell_type": "code",
   "execution_count": null,
   "metadata": {},
   "outputs": [],
   "source": [
    "print(type(grille_cachee(mg)[0][0]))\n",
    "print(grille_cachee(mg)[0][0])\n",
    "\n",
    "grille_aaaaaaa = grille_cachee(mg)\n",
    "#grille_aaaaaaa[0][0] = \"12\"\n",
    "\n",
    "print(grille_aaaaaaa)\n",
    "print(GrilleScore(mg)) #Putain j'ai compris. grille_cachee v1 ne faisais pas une liste de liste, mais juste une liste"
   ]
  },
  {
   "cell_type": "code",
   "execution_count": null,
   "metadata": {},
   "outputs": [],
   "source": [
    "def grille_cachee(liste_b): #Le but de cette matrice est d'être remplacé par la liste GrilleScore avec les appels du joueur\n",
    "    \"\"\"\n",
    "    Prends la grille bombée et numerotée, et retourne une grille cachée\n",
    "    \"\"\"\n",
    "    grille = []\n",
    "    grille_transit = []\n",
    "    for i in range(len(liste_b)):\n",
    "        for y in range(len(liste_b[0])):\n",
    "            grille_transit.append(\"□\")\n",
    "        grille.append(grille_transit)    \n",
    "    \n",
    "    return grille\n",
    "\n",
    "print(grille_cachee(GrilleScore(mg)))"
   ]
  },
  {
   "cell_type": "code",
   "execution_count": null,
   "metadata": {},
   "outputs": [
    {
     "name": "stdout",
     "output_type": "stream",
     "text": [
      "-  0  1  2  3  4  5  6  7  8  9  10  11  12  13  14  15  16  17  18  19  20  21  22  23  24  25  26  27  28  29  30  31  32  33  34  35  36  37  38  39  40  41  42  43  44  45  46  47  48  49  50  51  52  53  54  55  56  57  58  59  60  61  62  63  64  65  66  67  68  69  70  71  72  73  74  75  76  77  78  79  80  81  82  83  84  85  86  87  88  89  90  91  92  93  94  95  96  97  98  99 \n",
      "0 |H |H |H |H |H |H |H |H |H |H |H |H |H |H |H |H |H |H |H |H |H |H |H |H |H |H |H |H |H |H |H |H |H |H |H |H |H |H |H |H |H |H |H |H |H |H |H |H |H |H |H |H |H |H |H |H |H |H |H |H |H |H |H |H |H |H |H |H |H |H |H |H |H |H |H |H |H |H |H |H |H |H |H |H |H |H |H |H |H |H |H |H |H |H |H |H |H |H |H |H |\n",
      "1 |H |H |H |H |H |H |H |H |H |H |H |H |H |H |H |H |H |H |H |H |H |H |H |H |H |H |H |H |H |H |H |H |H |H |H |H |H |H |H |H |H |H |H |H |H |H |H |H |H |H |H |H |H |H |H |H |H |H |H |H |H |H |H |H |H |H |H |H |H |H |H |H |H |H |H |H |H |H |H |H |H |H |H |H |H |H |H |H |H |H |H |H |H |H |H |H |H |H |H |H |\n",
      "2 |H |H |H |H |H |H |H |H |H |H |H |H |H |H |H |H |H |H |H |H |H |H |H |H |H |H |H |H |H |H |H |H |H |H |H |H |H |H |H |H |H |H |H |H |H |H |H |H |H |H |H |H |H |H |H |H |H |H |H |H |H |H |H |H |H |H |H |H |H |H |H |H |H |H |H |H |H |H |H |H |H |H |H |H |H |H |H |H |H |H |H |H |H |H |H |H |H |H |H |H |\n",
      "3 |H |H |H |H |H |H |H |H |H |H |H |H |H |H |H |H |H |H |H |H |H |H |H |H |H |H |H |H |H |H |H |H |H |H |H |H |H |H |H |H |H |H |H |H |H |H |H |H |H |H |H |H |H |H |H |H |H |H |H |H |H |H |H |H |H |H |H |H |H |H |H |H |H |H |H |H |H |H |H |H |H |H |H |H |H |H |H |H |H |H |H |H |H |H |H |H |H |H |H |H |\n",
      "4 |H |H |H |H |H |H |H |H |H |H |H |H |H |H |H |H |H |H |H |H |H |H |H |H |H |H |H |H |H |H |H |H |H |H |H |H |H |H |H |H |H |H |H |H |H |H |H |H |H |H |H |H |H |H |H |H |H |H |H |H |H |H |H |H |H |H |H |H |H |H |H |H |H |H |H |H |H |H |H |H |H |H |H |H |H |H |H |H |H |H |H |H |H |H |H |H |H |H |H |H |\n",
      "5 |H |H |H |H |H |H |H |H |H |H |H |H |H |H |H |H |H |H |H |H |H |H |H |H |H |H |H |H |H |H |H |H |H |H |H |H |H |H |H |H |H |H |H |H |H |H |H |H |H |H |H |H |H |H |H |H |H |H |H |H |H |H |H |H |H |H |H |H |H |H |H |H |H |H |H |H |H |H |H |H |H |H |H |H |H |H |H |H |H |H |H |H |H |H |H |H |H |H |H |H |\n",
      "6 |H |H |H |H |H |H |H |H |H |H |H |H |H |H |H |H |H |H |H |H |H |H |H |H |H |H |H |H |H |H |H |H |H |H |H |H |H |H |H |H |H |H |H |H |H |H |H |H |H |H |H |H |H |H |H |H |H |H |H |H |H |H |H |H |H |H |H |H |H |H |H |H |H |H |H |H |H |H |H |H |H |H |H |H |H |H |H |H |H |H |H |H |H |H |H |H |H |H |H |H |\n",
      "7 |H |H |H |H |H |H |H |H |H |H |H |H |H |H |H |H |H |H |H |H |H |H |H |H |H |H |H |H |H |H |H |H |H |H |H |H |H |H |H |H |H |H |H |H |H |H |H |H |H |H |H |H |H |H |H |H |H |H |H |H |H |H |H |H |H |H |H |H |H |H |H |H |H |H |H |H |H |H |H |H |H |H |H |H |H |H |H |H |H |H |H |H |H |H |H |H |H |H |H |H |\n",
      "8 |H |H |H |H |H |H |H |H |H |H |H |H |H |H |H |H |H |H |H |H |H |H |H |H |H |H |H |H |H |H |H |H |H |H |H |H |H |H |H |H |H |H |H |H |H |H |H |H |H |H |H |H |H |H |H |H |H |H |H |H |H |H |H |H |H |H |H |H |H |H |H |H |H |H |H |H |H |H |H |H |H |H |H |H |H |H |H |H |H |H |H |H |H |H |H |H |H |H |H |H |\n",
      "9 |H |H |H |H |H |H |H |H |H |H |H |H |H |H |H |H |H |H |H |H |H |H |H |H |H |H |H |H |H |H |H |H |H |H |H |H |H |H |H |H |H |H |H |H |H |H |H |H |H |H |H |H |H |H |H |H |H |H |H |H |H |H |H |H |H |H |H |H |H |H |H |H |H |H |H |H |H |H |H |H |H |H |H |H |H |H |H |H |H |H |H |H |H |H |H |H |H |H |H |H |\n"
     ]
    }
   ],
   "source": [
    "grille_toto = []\n",
    "grille_tata = []\n",
    "\n",
    "for i in range(10):\n",
    "    for y in range(10):\n",
    "        grille_toto.append(\"H\")\n",
    "    grille_tata.append(grille_toto)\n",
    "printGrille(grille_tata)\n"
   ]
  },
  {
   "cell_type": "code",
   "execution_count": null,
   "metadata": {},
   "outputs": [],
   "source": [
    "def grille_cachee(liste_b): #Le but de cette matrice est d'être remplacé par la liste GrilleScore avec les appels du joueur\n",
    "    \"\"\"\n",
    "    Prends la grille bombée et numerotée, et retourne une grille cachée\n",
    "    \"\"\"\n",
    "    grille = []\n",
    "    for i in range(len(liste_b)): \n",
    "        grille.append(list(\"□\"*len(liste_b[0]))) #IL FALLAIT JUSTE TRANSFORMER LE STR EN LISTE JE VAIS DEVENIR FOU\n",
    "    return grille\n",
    "\n",
    "printGrille(grille_cachee(mg))"
   ]
  },
  {
   "cell_type": "code",
   "execution_count": null,
   "metadata": {},
   "outputs": [],
   "source": []
  },
  {
   "cell_type": "markdown",
   "metadata": {},
   "source": [
    "### Je deviens fou.\n",
    "Donc, il est le 7 janvier à 22h (à peine!), il est temps de prendre 5 minutes pour prendre du recul sur ce notebook et ce projet. Donc, pour ma part (Ardi):\n",
    "- J'ai bloqué pendant 1h parce que j'avais mis \"and\" et non \"or\" à la 11ème ligne de la fonction user_inter, et que du coup il ne relançait pas le user quand il avait inséré des infos fausses.\n",
    "- J'ai bloqué pendant 2h pour au final trouver que la fonction grille_cachee me retournait une liste de str, et non une liste de listes de str, et qu'il fallait juste ajouter un list() dans ce tas de code\n",
    "- Tomber sur une bombe ne fait rien. Aucune idée de comment corriger ce truc.\n",
    "- C'est marrant l'art ASCII."
   ]
  },
  {
   "cell_type": "markdown",
   "metadata": {},
   "source": [
    "### Cette fichue tortue\n",
    "\n",
    "Les fonctions turtle ont été faîtes en parallèle du code et de manière à être le plus souple par après.  \n",
    "Les dessins ont été fait par intuition, l'échelle et les positionnements des signes et chiffre par logique pour les centrer et par taton lorsque nécessaire."
   ]
  },
  {
   "cell_type": "code",
   "execution_count": 55,
   "metadata": {},
   "outputs": [],
   "source": [
    "import turtle\n",
    "discworld = turtle.Screen() #ecran\n",
    "discworld.reset()\n",
    "turtle.reset()\n",
    "ATuin = turtle.Turtle()\n",
    "ATuin.speed(0)\n",
    "ATuin.shape(\"turtle\")\n"
   ]
  },
  {
   "cell_type": "code",
   "execution_count": 22,
   "metadata": {},
   "outputs": [],
   "source": [
    "\n",
    "ATuin.fillcolor(\"gray\")\n",
    "for i in range(len(mg)):\n",
    "    for k in range(len(mg[i])):\n",
    "        ATuin.up() #évite de dessinner les déplacements\n",
    "        ATuin.goto(50*i,-50*k) #fait aller la tortue à la position de la case\n",
    "        ATuin.down() #commence à dessiner\n",
    "        ATuin.begin_fill() #commence le remplissage des cases\n",
    "        for x in range(4): # boucle qui dessine un carré\n",
    "            ATuin.forward(40)\n",
    "            ATuin.right(90)\n",
    "        ATuin.end_fill() #termine le remplissage des cases"
   ]
  },
  {
   "cell_type": "code",
   "execution_count": 23,
   "metadata": {},
   "outputs": [],
   "source": [
    "for i in range(len(mg)): # dessine les chiffres des colonnes\n",
    "    ATuin.up()\n",
    "    ATuin.goto(50*i+10,7)\n",
    "    ATuin.down()\n",
    "    ATuin.write(str(i), font=(\"Arial\", 30, \"normal\"))\n",
    "for k in range(len(mg[0])): # dessine les chiffres des lignes\n",
    "    ATuin.up()\n",
    "    ATuin.goto(-40,-50*k-43)\n",
    "    ATuin.down()\n",
    "    ATuin.write(str(k), font=(\"Arial\", 30, \"normal\"))"
   ]
  },
  {
   "cell_type": "code",
   "execution_count": 24,
   "metadata": {},
   "outputs": [],
   "source": [
    "def pointinterrogationtortue(y,x):\n",
    "    \"\"\"\n",
    "    Prend des coordonnées en paramètre et dessine un point d'interrogation, refait la case avant pour être sûr qu'elle ne comporte pas déja un signe\n",
    "    \"\"\"\n",
    "    ATuin.fillcolor(\"gray\")\n",
    "    ATuin.up() #évite de dessinner les déplacements\n",
    "    ATuin.goto(50*x,-50*y) #fait aller la tortue à la position de la case\n",
    "    ATuin.down() #commence à dessiner\n",
    "    ATuin.begin_fill() #commence le remplissage des cases\n",
    "    for z in range(4): # boucle qui dessine un carré\n",
    "        ATuin.forward(40)\n",
    "        ATuin.right(90)\n",
    "    ATuin.end_fill() #termine le remplissage des cases\n",
    "\n",
    "    ATuin.pencolor(\"red\") # dessine le point d'interrogation\n",
    "    ATuin.up()\n",
    "    ATuin.goto(50*x+10,-50*y-43)\n",
    "    ATuin.down()\n",
    "    ATuin.write(\"?\", font=(\"Arial\", 30, \"normal\"))\n",
    "    ATuin.pencolor(\"black\")"
   ]
  },
  {
   "cell_type": "code",
   "execution_count": null,
   "metadata": {},
   "outputs": [],
   "source": [
    "pointinterrogationtortue(5,3)"
   ]
  },
  {
   "cell_type": "code",
   "execution_count": 25,
   "metadata": {},
   "outputs": [],
   "source": [
    "def drapeautortue(y,x):\n",
    "    \"\"\"\n",
    "    Prend des coordonnées en paramètre et dessine un drapeau, refait la case avant pour être sûr qu'elle ne comporte pas déja un signe\n",
    "    \"\"\"\n",
    "    ATuin.fillcolor(\"gray\")\n",
    "    ATuin.up() #évite de dessinner les déplacements\n",
    "    ATuin.goto(50*x,-50*y) #fait aller la tortue à la position de la case\n",
    "    ATuin.down() #commence à dessiner\n",
    "    ATuin.begin_fill() #commence le remplissage des cases\n",
    "    for z in range(4): # boucle qui dessine un carré\n",
    "        ATuin.forward(40)\n",
    "        ATuin.right(90)\n",
    "    ATuin.end_fill() #termine le remplissage des cases\n",
    "    ATuin.fillcolor(\"red\") #dessine un drapeau\n",
    "    ATuin.up()\n",
    "    ATuin.goto(50*x+20,-50*y-35)\n",
    "    ATuin.down()\n",
    "    ATuin.left(90)\n",
    "    ATuin.forward(30)\n",
    "    ATuin.begin_fill()\n",
    "    ATuin.left(120)\n",
    "    ATuin.forward(15)\n",
    "    ATuin.left(120)\n",
    "    ATuin.forward(15)\n",
    "    ATuin.left(30)\n",
    "    ATuin.end_fill()"
   ]
  },
  {
   "cell_type": "code",
   "execution_count": null,
   "metadata": {},
   "outputs": [],
   "source": [
    "drapeautortue(5,5)"
   ]
  },
  {
   "cell_type": "code",
   "execution_count": 26,
   "metadata": {},
   "outputs": [],
   "source": [
    "def nombrebombestortue(y,x,nombre):\n",
    "    \"\"\"\n",
    "    Prend des coordonnées et un nombre en paramètre et dessine ce chiffre, fait une case avec un remplissage blanc\n",
    "    \"\"\"\n",
    "    ATuin.fillcolor(\"white\")\n",
    "    ATuin.up() #évite de dessinner les déplacements\n",
    "    ATuin.goto(50*x,-50*y) #fait aller la tortue à la position de la case\n",
    "    ATuin.down() #commence à dessiner\n",
    "    ATuin.begin_fill() #commence le remplissage des cases\n",
    "    for z in range(4): # boucle qui dessine un carré\n",
    "        ATuin.forward(40)\n",
    "        ATuin.right(90)\n",
    "    ATuin.end_fill() #termine le remplissage des cases\n",
    "    if nombre != 0: #si le nombre de bombes est différent de 0, dessine ce nombre\n",
    "        ATuin.pencolor(\"blue\")\n",
    "        ATuin.up()\n",
    "        ATuin.goto(50*x+10,-50*y-43)\n",
    "        ATuin.down()\n",
    "        ATuin.write(str(nombre), font=(\"Arial\", 30, \"normal\"))\n",
    "        ATuin.pencolor(\"black\")"
   ]
  },
  {
   "cell_type": "code",
   "execution_count": null,
   "metadata": {},
   "outputs": [],
   "source": [
    "nombrebombestortue(6,5,0)"
   ]
  },
  {
   "cell_type": "code",
   "execution_count": 27,
   "metadata": {},
   "outputs": [],
   "source": [
    "def casenormaleturtle(y,x):\n",
    "    \"\"\"\n",
    "    Prend des coordonnées en paramètre et redessine la case en gris\n",
    "    \"\"\"\n",
    "    ATuin.fillcolor(\"grey\")\n",
    "    ATuin.up() #évite de dessinner les déplacements\n",
    "    ATuin.goto(50*x,-50*y) #fait aller la tortue à la position de la case\n",
    "    ATuin.down() #commence à dessiner\n",
    "    ATuin.begin_fill() #commence le remplissage des cases\n",
    "    for z in range(4): # boucle qui dessine un carré\n",
    "        ATuin.forward(40)\n",
    "        ATuin.right(90)\n",
    "    ATuin.end_fill() #termine le remplissage des cases"
   ]
  },
  {
   "cell_type": "code",
   "execution_count": 115,
   "metadata": {},
   "outputs": [],
   "source": [
    "casenormaleturtle(6,5)"
   ]
  },
  {
   "cell_type": "code",
   "execution_count": 116,
   "metadata": {},
   "outputs": [],
   "source": [
    "def bombeturtle(y,x):\n",
    "    \"\"\"\n",
    "    Prend des coordonnées et un nombre en paramètre et dessine une bombe, refait la case avant pour être sûr qu'elle ne comporte pas déja un signe\n",
    "    \"\"\"\n",
    "    ATuin.fillcolor(\"white\")\n",
    "    ATuin.up() #évite de dessinner les déplacements\n",
    "    ATuin.goto(50*x,-50*y) #fait aller la tortue à la position de la case\n",
    "    ATuin.down() #commence à dessiner\n",
    "    ATuin.begin_fill() #commence le remplissage des cases\n",
    "    for z in range(4): # boucle qui dessine un carré\n",
    "        ATuin.forward(40)\n",
    "        ATuin.right(90)\n",
    "    ATuin.end_fill() #termine le remplissage des cases\n",
    "    ATuin.fillcolor(\"black\") #dessine une bombe\n",
    "    ATuin.up()\n",
    "    ATuin.goto(50*x+20,-50*y-35) #desssine une bombe\n",
    "    ATuin.down()\n",
    "    ATuin.fillcolor(\"black\")\n",
    "    ATuin.begin_fill()\n",
    "    ATuin.circle(10)\n",
    "    ATuin.end_fill()\n",
    "    ATuin.circle(10,160)\n",
    "    ATuin.left(90)\n",
    "    ATuin.circle(6,-180)\n",
    "    ATuin.fillcolor(\"yellow\")\n",
    "    ATuin.left(90)\n",
    "    ATuin.begin_fill()\n",
    "    ATuin.circle(2)\n",
    "    ATuin.end_fill()\n",
    "    ATuin.right(160)\n",
    "    \n",
    "    \n",
    "    \n",
    "        \n",
    "    "
   ]
  },
  {
   "cell_type": "code",
   "execution_count": 117,
   "metadata": {},
   "outputs": [],
   "source": [
    "bombeturtle(3,3)"
   ]
  },
  {
   "cell_type": "code",
   "execution_count": 112,
   "metadata": {},
   "outputs": [],
   "source": [
    "ATuin.reset()"
   ]
  },
  {
   "cell_type": "code",
   "execution_count": null,
   "metadata": {},
   "outputs": [],
   "source": []
  }
 ],
 "metadata": {
  "interpreter": {
   "hash": "dca0ade3e726a953b501b15e8e990130d2b7799f14cfd9f4271676035ebe5511"
  },
  "kernelspec": {
   "display_name": "Python 3.8.3 64-bit ('base': conda)",
   "name": "python3"
  },
  "language_info": {
   "codemirror_mode": {
    "name": "ipython",
    "version": 3
   },
   "file_extension": ".py",
   "mimetype": "text/x-python",
   "name": "python",
   "nbconvert_exporter": "python",
   "pygments_lexer": "ipython3",
   "version": "3.8.8"
  },
  "latex_envs": {
   "LaTeX_envs_menu_present": true,
   "autoclose": false,
   "autocomplete": true,
   "bibliofile": "biblio.bib",
   "cite_by": "apalike",
   "current_citInitial": 1,
   "eqLabelWithNumbers": true,
   "eqNumInitial": 1,
   "hotkeys": {
    "equation": "Ctrl-E",
    "itemize": "Ctrl-I"
   },
   "labels_anchors": false,
   "latex_user_defs": false,
   "report_style_numbering": false,
   "user_envs_cfg": false
  },
  "toc": {
   "base_numbering": 1,
   "nav_menu": {},
   "number_sections": true,
   "sideBar": true,
   "skip_h1_title": false,
   "title_cell": "Table of Contents",
   "title_sidebar": "Contents",
   "toc_cell": false,
   "toc_position": {},
   "toc_section_display": true,
   "toc_window_display": false
  }
 },
 "nbformat": 4,
 "nbformat_minor": 4
}
