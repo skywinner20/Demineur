{
 "cells": [
  {
   "cell_type": "code",
   "execution_count": 1,
   "id": "087f21ef",
   "metadata": {},
   "outputs": [],
   "source": [
    "import turtle"
   ]
  },
  {
   "cell_type": "code",
   "execution_count": 2,
   "id": "8eb78b19",
   "metadata": {},
   "outputs": [],
   "source": [
    "discworld = turtle.Screen() #ecran\n",
    "ATuin = turtle.Turtle()\n",
    "ATuin.speed(0)\n",
    "ATuin.shape(\"turtle\")"
   ]
  },
  {
   "cell_type": "code",
   "execution_count": 3,
   "id": "bb0a1b31",
   "metadata": {},
   "outputs": [],
   "source": [
    "def drawSquare(size):\n",
    "    for i in range(4):\n",
    "        ATuin.forward(size)\n",
    "        ATuin.right(90)"
   ]
  },
  {
   "cell_type": "code",
   "execution_count": 4,
   "id": "f09e108c",
   "metadata": {},
   "outputs": [],
   "source": [
    "def drawGrid(nbligne, nbcol, size = 25, space = 5):\n",
    "    ATuin.speed(0)\n",
    "    for l in range(nbligne):\n",
    "        for c in range(nbcol):\n",
    "            drawSquare(size)\n",
    "            ATuin.up()\n",
    "            ATuin.forward(size+space)\n",
    "            ATuin.down()\n",
    "        ATuin.up()\n",
    "        ATuin.backward(nbcol * (size + space))\n",
    "        ATuin.right(90)\n",
    "        ATuin.forward(size+space)\n",
    "        ATuin.down()\n",
    "        ATuin.left(90)"
   ]
  },
  {
   "cell_type": "code",
   "execution_count": 5,
   "id": "55c068cd",
   "metadata": {},
   "outputs": [],
   "source": [
    "drawGrid(5,5)"
   ]
  },
  {
   "cell_type": "code",
   "execution_count": 6,
   "id": "a5204070",
   "metadata": {},
   "outputs": [],
   "source": [
    "discworld.reset()"
   ]
  },
  {
   "cell_type": "code",
   "execution_count": null,
   "id": "41ccb2ee",
   "metadata": {},
   "outputs": [],
   "source": []
  }
 ],
 "metadata": {
  "interpreter": {
   "hash": "dca0ade3e726a953b501b15e8e990130d2b7799f14cfd9f4271676035ebe5511"
  },
  "kernelspec": {
   "display_name": "Python 3.8.3 64-bit ('base': conda)",
   "name": "python3"
  },
  "language_info": {
   "codemirror_mode": {
    "name": "ipython",
    "version": 3
   },
   "file_extension": ".py",
   "mimetype": "text/x-python",
   "name": "python",
   "nbconvert_exporter": "python",
   "pygments_lexer": "ipython3",
   "version": "3.8.3"
  },
  "latex_envs": {
   "LaTeX_envs_menu_present": true,
   "autoclose": true,
   "autocomplete": true,
   "bibliofile": "biblio.bib",
   "cite_by": "apalike",
   "current_citInitial": 1,
   "eqLabelWithNumbers": true,
   "eqNumInitial": 1,
   "hotkeys": {
    "equation": "Ctrl-E",
    "itemize": "Ctrl-I"
   },
   "labels_anchors": false,
   "latex_user_defs": false,
   "report_style_numbering": false,
   "user_envs_cfg": false
  },
  "toc": {
   "base_numbering": 1,
   "nav_menu": {},
   "number_sections": true,
   "sideBar": true,
   "skip_h1_title": true,
   "title_cell": "Table of Contents",
   "title_sidebar": "Contents",
   "toc_cell": false,
   "toc_position": {},
   "toc_section_display": true,
   "toc_window_display": false
  }
 },
 "nbformat": 4,
 "nbformat_minor": 5
}
