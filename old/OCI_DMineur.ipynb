{
 "cells": [
  {
   "cell_type": "markdown",
   "metadata": {},
   "source": [
    "# Journal de bord du projet\n",
    "\n",
    "Voici le fichier qui va servir de journal de bord et de fichier de prototypage\n",
    "\n",
    "## Création de la grille\n",
    "\n",
    "On va utiliser des liste imbriquées avec les valeurs suivantes pour représenter les différents cas"
   ]
  },
  {
   "cell_type": "markdown",
   "metadata": {},
   "source": [
    "Ci-dessous la liste des import nécessaires"
   ]
  },
  {
   "cell_type": "code",
   "execution_count": 1,
   "metadata": {},
   "outputs": [],
   "source": [
    "import random\n",
    "import math"
   ]
  },
  {
   "cell_type": "code",
   "execution_count": 2,
   "metadata": {},
   "outputs": [],
   "source": [
    "def magrille(l,c):\n",
    "    grille = []\n",
    "    for i in range(l):\n",
    "        grille.append([0]*c)\n",
    "    return grille"
   ]
  },
  {
   "cell_type": "code",
   "execution_count": 3,
   "metadata": {},
   "outputs": [],
   "source": [
    "mg = magrille(5,5)"
   ]
  },
  {
   "cell_type": "code",
   "execution_count": 4,
   "metadata": {},
   "outputs": [
    {
     "data": {
      "text/plain": [
       "[[0, 0, 0, 0, 0],\n",
       " [0, 0, 0, 0, 0],\n",
       " [0, 0, 0, 0, 0],\n",
       " [0, 0, 0, 0, 0],\n",
       " [0, 0, 0, 0, 0]]"
      ]
     },
     "execution_count": 4,
     "metadata": {},
     "output_type": "execute_result"
    }
   ],
   "source": [
    "mg"
   ]
  },
  {
   "cell_type": "markdown",
   "metadata": {},
   "source": [
    "## Fonction d'affichage de la grille"
   ]
  },
  {
   "cell_type": "code",
   "execution_count": 5,
   "metadata": {},
   "outputs": [],
   "source": [
    "def printGrille(magrille):\n",
    "    nbligne = len(magrille)\n",
    "    nbcol = len(magrille[0])\n",
    "    for i in range(nbligne):\n",
    "        lignetexte = \"|\"\n",
    "        for j in range(nbcol):\n",
    "            lignetexte += \"{0} |\".format(magrille[i][j])\n",
    "        print(lignetexte)"
   ]
  },
  {
   "cell_type": "code",
   "execution_count": 6,
   "metadata": {},
   "outputs": [
    {
     "name": "stdout",
     "output_type": "stream",
     "text": [
      "|0 |0 |0 |0 |0 |\n",
      "|0 |0 |0 |0 |0 |\n",
      "|0 |0 |0 |0 |0 |\n",
      "|0 |0 |0 |0 |0 |\n",
      "|0 |0 |0 |0 |0 |\n"
     ]
    }
   ],
   "source": [
    "printGrille(mg)"
   ]
  },
  {
   "cell_type": "markdown",
   "metadata": {},
   "source": [
    "## Placement des bombes\n",
    "\n",
    "On veut choisir n élément parmis les positions"
   ]
  },
  {
   "cell_type": "code",
   "execution_count": null,
   "metadata": {},
   "outputs": [],
   "source": [
    "pos = genPos(10,10)\n",
    "random.sample(pos, 20)"
   ]
  },
  {
   "cell_type": "markdown",
   "metadata": {},
   "source": [
    "Pour choisir les positions des bombes aléatoirement on commence par générer toutes les positions possibles puis on choisit le nombre souhaité parmis ces positions avec `random.sample` qui permet de ne pas choisir 2 fois la même position."
   ]
  },
  {
   "cell_type": "code",
   "execution_count": 7,
   "metadata": {},
   "outputs": [],
   "source": [
    "def genPos(l,c):\n",
    "    pos = []\n",
    "    for i in range(l):\n",
    "        for j in range(c):\n",
    "            pos.append((i,j))\n",
    "    return pos"
   ]
  },
  {
   "cell_type": "code",
   "execution_count": 8,
   "metadata": {},
   "outputs": [],
   "source": [
    "def putBomb(grille, nbBomb):\n",
    "    nbligne = len(grille)\n",
    "    nbcol = len(grille[0])\n",
    "    pos = genPos(nbligne, nbcol)\n",
    "    posBomb = random.sample(pos, nbBomb)\n",
    "    for bomb in posBomb:\n",
    "        grille[bomb[0]][bomb[1]] = \"B\"\n",
    "    return grille"
   ]
  },
  {
   "cell_type": "code",
   "execution_count": 9,
   "metadata": {},
   "outputs": [
    {
     "name": "stdout",
     "output_type": "stream",
     "text": [
      "|0 |0 |0 |0 |0 |0 |0 |0 |B |0 |\n",
      "|0 |B |0 |0 |0 |0 |0 |B |0 |B |\n",
      "|0 |0 |B |0 |0 |0 |0 |B |0 |0 |\n",
      "|0 |0 |B |0 |0 |B |0 |0 |B |0 |\n",
      "|0 |0 |0 |0 |0 |0 |0 |0 |0 |0 |\n",
      "|0 |0 |B |B |B |0 |B |0 |B |0 |\n",
      "|0 |0 |B |0 |0 |0 |B |0 |B |0 |\n",
      "|0 |0 |0 |0 |0 |0 |B |0 |0 |0 |\n",
      "|0 |0 |0 |B |B |0 |0 |0 |0 |0 |\n",
      "|0 |B |0 |0 |0 |0 |0 |0 |0 |0 |\n"
     ]
    }
   ],
   "source": [
    "mg = magrille(10,10)\n",
    "mgB = putBomb(mg,21)\n",
    "printGrille(mgB)"
   ]
  },
  {
   "cell_type": "markdown",
   "metadata": {},
   "source": [
    "## Nombre de bombes voisines\n",
    "\n",
    "Les cases qui ne sont pas des bombes doivent afficher le nombre de bombes dans leur voisinage, i.e. les 8 cases autour dans le cas général.\n",
    "\n",
    "La démarche proposé pour faire cela est la suivante :\n",
    "* Pour chaque case, obtenir les coordonnées de ses voisins valides (cas des bords et des coins)\n",
    "* Mettre le compteur de bombes à 0\n",
    "* Pour chacun des voisins valide, s'il s'agit d'une bombe incrémenter le compteur de 1\n",
    "* Inscrire la valeur du compteur de bombe à la position de la case examinée\n",
    "\n",
    "Ainsi, la première étape consiste à obtenir les coordonnées des voisins valides.\n",
    "\n",
    "### Trouver les voisins\n",
    "\n",
    "Pour une case de coordonnées x et y, les 8 voisins sont :\n",
    " * x-1, y-1\n",
    " * x-1, y\n",
    " * x-1, y+1\n",
    " * x, y-1\n",
    " * x, y+1\n",
    " * x+1, y-1\n",
    " * x+1, y\n",
    " * X+1, y+1"
   ]
  },
  {
   "cell_type": "code",
   "execution_count": 10,
   "metadata": {},
   "outputs": [],
   "source": [
    "def voisins(x,y, grille):\n",
    "    \"\"\"\n",
    "    Trouve les coordonnées valides des voisins de x,y\n",
    "    \"\"\"\n",
    "    voisins = []\n",
    "    nbligne = len(grille)\n",
    "    nbcol = len(grille[0])\n",
    "    if x-1 in range(nbligne):\n",
    "        voisins.append((x-1,y))\n",
    "        if y-1 in range(nbcol):\n",
    "            voisins.append((x-1,y-1))\n",
    "        if y+1 in range(nbcol):\n",
    "            voisins.append((x-1,y+1))\n",
    "    if x+1 in range(nbligne):\n",
    "        voisins.append((x+1,y))\n",
    "        if y-1 in range(nbcol):\n",
    "            voisins.append((x+1,y-1))\n",
    "        if y+1 in range(nbcol):\n",
    "            voisins.append((x+1,y+1))\n",
    "    if y-1 in range(nbcol):\n",
    "            voisins.append((x,y-1))\n",
    "    if y+1 in range(nbcol):\n",
    "            voisins.append((x,y+1))  \n",
    "            \n",
    "    return voisins"
   ]
  },
  {
   "cell_type": "code",
   "execution_count": 15,
   "metadata": {},
   "outputs": [],
   "source": [
    "vs = voisins(0,5,mgB)"
   ]
  },
  {
   "cell_type": "code",
   "execution_count": 16,
   "metadata": {},
   "outputs": [
    {
     "data": {
      "text/plain": [
       "[(1, 5), (1, 4), (1, 6), (0, 4), (0, 6)]"
      ]
     },
     "execution_count": 16,
     "metadata": {},
     "output_type": "execute_result"
    }
   ],
   "source": [
    "vs"
   ]
  },
  {
   "cell_type": "markdown",
   "metadata": {},
   "source": [
    "### Compter les bombes"
   ]
  },
  {
   "cell_type": "code",
   "execution_count": 17,
   "metadata": {},
   "outputs": [],
   "source": [
    "def countBombs(grille):\n",
    "    nbligne = len(grille)\n",
    "    nbcol = len(grille[0])\n",
    "    pos = genPos(nbligne, nbcol)\n",
    "    for x,y in pos :\n",
    "        if grille[x][y] != \"B\":\n",
    "            cptbomb = 0\n",
    "            vs = voisins(x,y,grille)\n",
    "            for i,j in vs:\n",
    "                if grille[i][j] == \"B\":\n",
    "                    cptbomb += 1\n",
    "            grille[x][y] = cptbomb"
   ]
  },
  {
   "cell_type": "code",
   "execution_count": 18,
   "metadata": {},
   "outputs": [],
   "source": [
    "countBombs(mgB)"
   ]
  },
  {
   "cell_type": "code",
   "execution_count": 19,
   "metadata": {},
   "outputs": [
    {
     "name": "stdout",
     "output_type": "stream",
     "text": [
      "|1 |1 |1 |0 |0 |0 |1 |2 |B |2 |\n",
      "|1 |B |2 |1 |0 |0 |2 |B |4 |B |\n",
      "|1 |3 |B |2 |1 |1 |3 |B |4 |2 |\n",
      "|0 |2 |B |2 |1 |B |2 |2 |B |1 |\n",
      "|0 |2 |3 |4 |3 |3 |2 |3 |2 |2 |\n",
      "|0 |2 |B |B |B |3 |B |4 |B |2 |\n",
      "|0 |2 |B |4 |2 |4 |B |5 |B |2 |\n",
      "|0 |1 |2 |3 |2 |3 |B |3 |1 |1 |\n",
      "|1 |1 |2 |B |B |2 |1 |1 |0 |0 |\n",
      "|1 |B |2 |2 |2 |1 |0 |0 |0 |0 |\n"
     ]
    }
   ],
   "source": [
    "printGrille(mgB)"
   ]
  },
  {
   "cell_type": "code",
   "execution_count": null,
   "metadata": {},
   "outputs": [],
   "source": []
  }
 ],
 "metadata": {
  "kernelspec": {
   "display_name": "Python 3",
   "language": "python",
   "name": "python3"
  },
  "language_info": {
   "codemirror_mode": {
    "name": "ipython",
    "version": 3
   },
   "file_extension": ".py",
   "mimetype": "text/x-python",
   "name": "python",
   "nbconvert_exporter": "python",
   "pygments_lexer": "ipython3",
   "version": "3.8.3"
  },
  "latex_envs": {
   "LaTeX_envs_menu_present": true,
   "autoclose": false,
   "autocomplete": true,
   "bibliofile": "biblio.bib",
   "cite_by": "apalike",
   "current_citInitial": 1,
   "eqLabelWithNumbers": true,
   "eqNumInitial": 1,
   "hotkeys": {
    "equation": "Ctrl-E",
    "itemize": "Ctrl-I"
   },
   "labels_anchors": false,
   "latex_user_defs": false,
   "report_style_numbering": false,
   "user_envs_cfg": false
  },
  "toc": {
   "base_numbering": 1,
   "nav_menu": {},
   "number_sections": true,
   "sideBar": true,
   "skip_h1_title": false,
   "title_cell": "Table of Contents",
   "title_sidebar": "Contents",
   "toc_cell": false,
   "toc_position": {},
   "toc_section_display": true,
   "toc_window_display": true
  }
 },
 "nbformat": 4,
 "nbformat_minor": 4
}
